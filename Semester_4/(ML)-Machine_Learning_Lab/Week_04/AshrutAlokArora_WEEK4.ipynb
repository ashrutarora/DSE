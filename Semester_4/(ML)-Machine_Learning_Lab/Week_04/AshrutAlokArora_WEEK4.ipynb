{
 "cells": [
  {
   "cell_type": "code",
   "execution_count": 1,
   "id": "2c6d78a7",
   "metadata": {},
   "outputs": [],
   "source": [
    "import pandas as pd\n",
    "import numpy as np\n",
    "import matplotlib.pyplot as plt\n",
    "import seaborn as sns\n",
    "import random\n",
    "\n",
    "from sklearn.linear_model import LinearRegression\n",
    "from sklearn.model_selection import train_test_split\n",
    "from sklearn.metrics import r2_score\n",
    "from sklearn.metrics import mean_absolute_error, mean_squared_error\n"
   ]
  },
  {
   "cell_type": "markdown",
   "id": "0af4ff81",
   "metadata": {},
   "source": [
    "# Q1"
   ]
  },
  {
   "cell_type": "markdown",
   "id": "650e5ab4",
   "metadata": {},
   "source": [
    "## (a) Sample X-Y"
   ]
  },
  {
   "cell_type": "markdown",
   "id": "2d11bef9",
   "metadata": {},
   "source": [
    "### Creating random dataset"
   ]
  },
  {
   "cell_type": "code",
   "execution_count": 2,
   "id": "e4bc3cad",
   "metadata": {},
   "outputs": [],
   "source": [
    "# This makes sure that everytime same RANDOM NUMBERS are generated.\n",
    "random.seed(123)\n",
    "n = 50\n",
    "\n",
    "X = np.random.uniform(0, 1, n)\n",
    "Y = 2 + 3*X + np.random.normal(0, 0.1, n)"
   ]
  },
  {
   "cell_type": "code",
   "execution_count": 3,
   "id": "55603b70",
   "metadata": {
    "scrolled": false
   },
   "outputs": [
    {
     "data": {
      "text/html": [
       "<div>\n",
       "<style scoped>\n",
       "    .dataframe tbody tr th:only-of-type {\n",
       "        vertical-align: middle;\n",
       "    }\n",
       "\n",
       "    .dataframe tbody tr th {\n",
       "        vertical-align: top;\n",
       "    }\n",
       "\n",
       "    .dataframe thead th {\n",
       "        text-align: right;\n",
       "    }\n",
       "</style>\n",
       "<table border=\"1\" class=\"dataframe\">\n",
       "  <thead>\n",
       "    <tr style=\"text-align: right;\">\n",
       "      <th></th>\n",
       "      <th>X</th>\n",
       "      <th>Y</th>\n",
       "    </tr>\n",
       "  </thead>\n",
       "  <tbody>\n",
       "    <tr>\n",
       "      <th>0</th>\n",
       "      <td>0.807037</td>\n",
       "      <td>4.432364</td>\n",
       "    </tr>\n",
       "    <tr>\n",
       "      <th>1</th>\n",
       "      <td>0.382350</td>\n",
       "      <td>3.182871</td>\n",
       "    </tr>\n",
       "    <tr>\n",
       "      <th>2</th>\n",
       "      <td>0.235836</td>\n",
       "      <td>2.710485</td>\n",
       "    </tr>\n",
       "    <tr>\n",
       "      <th>3</th>\n",
       "      <td>0.189651</td>\n",
       "      <td>2.583838</td>\n",
       "    </tr>\n",
       "    <tr>\n",
       "      <th>4</th>\n",
       "      <td>0.893673</td>\n",
       "      <td>4.635307</td>\n",
       "    </tr>\n",
       "  </tbody>\n",
       "</table>\n",
       "</div>"
      ],
      "text/plain": [
       "          X         Y\n",
       "0  0.807037  4.432364\n",
       "1  0.382350  3.182871\n",
       "2  0.235836  2.710485\n",
       "3  0.189651  2.583838\n",
       "4  0.893673  4.635307"
      ]
     },
     "execution_count": 3,
     "metadata": {},
     "output_type": "execute_result"
    }
   ],
   "source": [
    "sample = {'X' : X,\n",
    "       'Y': Y}\n",
    "\n",
    "df = pd.DataFrame(sample)\n",
    "\n",
    "# To make X and Y to 2D array\n",
    "X = np.array(X).reshape(-1,1)\n",
    "Y = np.array(Y).reshape(-1,1)\n",
    "# Splitting the dataset into the specified value\n",
    "X_train, X_test, Y_train, Y_test = train_test_split(X, Y, test_size=1/4, random_state=0)\n",
    "\n",
    "df.head()"
   ]
  },
  {
   "cell_type": "code",
   "execution_count": 4,
   "id": "596718d6",
   "metadata": {},
   "outputs": [],
   "source": [
    "# Creates an object of LinearRegression\n",
    "slr = LinearRegression()"
   ]
  },
  {
   "cell_type": "markdown",
   "id": "4ffccbe5",
   "metadata": {},
   "source": [
    "#### Training the Data"
   ]
  },
  {
   "cell_type": "code",
   "execution_count": 5,
   "id": "9a54712c",
   "metadata": {
    "scrolled": false
   },
   "outputs": [
    {
     "data": {
      "text/plain": [
       "LinearRegression()"
      ]
     },
     "execution_count": 5,
     "metadata": {},
     "output_type": "execute_result"
    }
   ],
   "source": [
    "slr.fit(X_train, Y_train)"
   ]
  },
  {
   "cell_type": "markdown",
   "id": "6f34c2e6",
   "metadata": {},
   "source": [
    "#### SLR coefficients"
   ]
  },
  {
   "cell_type": "code",
   "execution_count": 6,
   "id": "95304cfc",
   "metadata": {},
   "outputs": [
    {
     "data": {
      "text/plain": [
       "array([[2.97429748]])"
      ]
     },
     "execution_count": 6,
     "metadata": {},
     "output_type": "execute_result"
    }
   ],
   "source": [
    "m = slr.coef_\n",
    "m"
   ]
  },
  {
   "cell_type": "code",
   "execution_count": 7,
   "id": "62a258da",
   "metadata": {},
   "outputs": [
    {
     "data": {
      "text/plain": [
       "array([2.00986688])"
      ]
     },
     "execution_count": 7,
     "metadata": {},
     "output_type": "execute_result"
    }
   ],
   "source": [
    "c = slr.intercept_\n",
    "c"
   ]
  },
  {
   "cell_type": "markdown",
   "id": "d61b10f8",
   "metadata": {},
   "source": [
    "#### Regression graph."
   ]
  },
  {
   "cell_type": "markdown",
   "id": "255c1fbc",
   "metadata": {},
   "source": [
    "##### Trained Data "
   ]
  },
  {
   "cell_type": "code",
   "execution_count": 8,
   "id": "08524a9e",
   "metadata": {
    "scrolled": false
   },
   "outputs": [
    {
     "data": {
      "text/plain": [
       "array([4.4888031 , 2.88123863, 2.67516653, 2.4358999 , 3.77687734,\n",
       "       2.92141931, 2.66251624, 4.34802605, 2.41846038, 4.10889207,\n",
       "       3.37096856, 2.26704144, 2.2087069 , 3.00391521, 3.03769491,\n",
       "       4.66836252, 3.94880787, 4.02076586, 3.57901721, 3.69932593,\n",
       "       3.25101834, 3.14708906, 3.04904   , 2.60798753, 2.40759842,\n",
       "       4.96463455, 2.99161912, 2.58489534, 4.05006545, 4.91817918,\n",
       "       3.08264632, 4.16329391, 2.46886198, 2.57394495, 4.41023442,\n",
       "       3.56142873, 2.02123479])"
      ]
     },
     "execution_count": 8,
     "metadata": {},
     "output_type": "execute_result"
    }
   ],
   "source": [
    "# This is same as Y = mX + c\n",
    "Y_pred_train = slr.predict(X_train)\n",
    "Y_pred_train.flatten()"
   ]
  },
  {
   "cell_type": "code",
   "execution_count": 9,
   "id": "e5a649f1",
   "metadata": {
    "scrolled": true
   },
   "outputs": [
    {
     "data": {
      "image/png": "[encoded data removed]",
      "text/plain": [
       "<Figure size 640x480 with 1 Axes>"
      ]
     },
     "metadata": {},
     "output_type": "display_data"
    }
   ],
   "source": [
    "plt.scatter(X_train, Y_train, color = 'red')\n",
    "plt.plot(X_train, Y_pred_train, color='blue', linewidth=3)\n",
    "\n",
    "plt.xlabel('Actual')\n",
    "plt.ylabel('Predicted')\n",
    "plt.title('Actual VS Predicted')\n",
    "plt.show()"
   ]
  },
  {
   "cell_type": "markdown",
   "id": "0f8d3074",
   "metadata": {},
   "source": [
    "###### R^2 test"
   ]
  },
  {
   "cell_type": "code",
   "execution_count": 10,
   "id": "3838ba65",
   "metadata": {},
   "outputs": [
    {
     "data": {
      "text/plain": [
       "0.9858668416377347"
      ]
     },
     "execution_count": 10,
     "metadata": {},
     "output_type": "execute_result"
    }
   ],
   "source": [
    "r2_score(Y_train, Y_pred_train)"
   ]
  },
  {
   "cell_type": "markdown",
   "id": "70e38986",
   "metadata": {},
   "source": [
    "##### Tested Data"
   ]
  },
  {
   "cell_type": "code",
   "execution_count": 11,
   "id": "f4054937",
   "metadata": {},
   "outputs": [
    {
     "data": {
      "text/plain": [
       "array([2.58453493, 2.05250678, 2.08864009, 2.84080607, 2.71131269,\n",
       "       4.30113082, 2.62678565, 2.9724298 , 2.39189449, 4.66791649,\n",
       "       2.18470067, 2.58259388, 4.43468152])"
      ]
     },
     "execution_count": 11,
     "metadata": {},
     "output_type": "execute_result"
    }
   ],
   "source": [
    "Y_pred_test = slr.predict(X_test)\n",
    "Y_pred_test.flatten()"
   ]
  },
  {
   "cell_type": "code",
   "execution_count": 12,
   "id": "7e3037de",
   "metadata": {
    "scrolled": false
   },
   "outputs": [
    {
     "data": {
      "image/png": "[encoded data removed]",
      "text/plain": [
       "<Figure size 640x480 with 1 Axes>"
      ]
     },
     "metadata": {},
     "output_type": "display_data"
    }
   ],
   "source": [
    "plt.scatter(X_test, Y_test, color = 'red')\n",
    "plt.plot(X_test, Y_pred_test, color='blue', linewidth=3)\n",
    "\n",
    "plt.xlabel('Actual')\n",
    "plt.ylabel('Predicted')\n",
    "plt.title('Actual VS Predicted')\n",
    "plt.show()"
   ]
  },
  {
   "cell_type": "markdown",
   "id": "d6edfee0",
   "metadata": {},
   "source": [
    "###### R^2 test"
   ]
  },
  {
   "cell_type": "code",
   "execution_count": 13,
   "id": "7c8f09c9",
   "metadata": {},
   "outputs": [
    {
     "data": {
      "text/plain": [
       "0.9931815567009422"
      ]
     },
     "execution_count": 13,
     "metadata": {},
     "output_type": "execute_result"
    }
   ],
   "source": [
    "r2_score(Y_test, Y_pred_test)"
   ]
  },
  {
   "cell_type": "markdown",
   "id": "bfff33a1",
   "metadata": {},
   "source": [
    "#### Predicting output for new Datapoint\n"
   ]
  },
  {
   "cell_type": "code",
   "execution_count": 14,
   "id": "bbccf994",
   "metadata": {
    "scrolled": true
   },
   "outputs": [
    {
     "data": {
      "text/plain": [
       "array([[2.66590458]])"
      ]
     },
     "execution_count": 14,
     "metadata": {},
     "output_type": "execute_result"
    }
   ],
   "source": [
    "new_data = np.random.uniform(0,1,1)\n",
    "new_data = [new_data]\n",
    "slr.predict(new_data)"
   ]
  },
  {
   "cell_type": "code",
   "execution_count": 15,
   "id": "548fa074",
   "metadata": {
    "scrolled": false
   },
   "outputs": [
    {
     "data": {
      "text/html": [
       "<div>\n",
       "<style scoped>\n",
       "    .dataframe tbody tr th:only-of-type {\n",
       "        vertical-align: middle;\n",
       "    }\n",
       "\n",
       "    .dataframe tbody tr th {\n",
       "        vertical-align: top;\n",
       "    }\n",
       "\n",
       "    .dataframe thead th {\n",
       "        text-align: right;\n",
       "    }\n",
       "</style>\n",
       "<table border=\"1\" class=\"dataframe\">\n",
       "  <thead>\n",
       "    <tr style=\"text-align: right;\">\n",
       "      <th></th>\n",
       "      <th>Actual Value</th>\n",
       "      <th>Predicted Value</th>\n",
       "      <th>difference</th>\n",
       "    </tr>\n",
       "  </thead>\n",
       "  <tbody>\n",
       "    <tr>\n",
       "      <th>0</th>\n",
       "      <td>2.564638</td>\n",
       "      <td>2.584535</td>\n",
       "      <td>-0.019897</td>\n",
       "    </tr>\n",
       "    <tr>\n",
       "      <th>1</th>\n",
       "      <td>2.115496</td>\n",
       "      <td>2.052507</td>\n",
       "      <td>0.062989</td>\n",
       "    </tr>\n",
       "    <tr>\n",
       "      <th>2</th>\n",
       "      <td>2.061614</td>\n",
       "      <td>2.088640</td>\n",
       "      <td>-0.027026</td>\n",
       "    </tr>\n",
       "    <tr>\n",
       "      <th>3</th>\n",
       "      <td>2.800874</td>\n",
       "      <td>2.840806</td>\n",
       "      <td>-0.039932</td>\n",
       "    </tr>\n",
       "    <tr>\n",
       "      <th>4</th>\n",
       "      <td>2.710485</td>\n",
       "      <td>2.711313</td>\n",
       "      <td>-0.000828</td>\n",
       "    </tr>\n",
       "    <tr>\n",
       "      <th>5</th>\n",
       "      <td>4.366598</td>\n",
       "      <td>4.301131</td>\n",
       "      <td>0.065467</td>\n",
       "    </tr>\n",
       "    <tr>\n",
       "      <th>6</th>\n",
       "      <td>2.596367</td>\n",
       "      <td>2.626786</td>\n",
       "      <td>-0.030419</td>\n",
       "    </tr>\n",
       "    <tr>\n",
       "      <th>7</th>\n",
       "      <td>2.979889</td>\n",
       "      <td>2.972430</td>\n",
       "      <td>0.007460</td>\n",
       "    </tr>\n",
       "    <tr>\n",
       "      <th>8</th>\n",
       "      <td>2.339749</td>\n",
       "      <td>2.391894</td>\n",
       "      <td>-0.052146</td>\n",
       "    </tr>\n",
       "    <tr>\n",
       "      <th>9</th>\n",
       "      <td>4.635307</td>\n",
       "      <td>4.667916</td>\n",
       "      <td>-0.032609</td>\n",
       "    </tr>\n",
       "    <tr>\n",
       "      <th>10</th>\n",
       "      <td>2.278559</td>\n",
       "      <td>2.184701</td>\n",
       "      <td>0.093859</td>\n",
       "    </tr>\n",
       "    <tr>\n",
       "      <th>11</th>\n",
       "      <td>2.379925</td>\n",
       "      <td>2.582594</td>\n",
       "      <td>-0.202669</td>\n",
       "    </tr>\n",
       "    <tr>\n",
       "      <th>12</th>\n",
       "      <td>4.499206</td>\n",
       "      <td>4.434682</td>\n",
       "      <td>0.064525</td>\n",
       "    </tr>\n",
       "  </tbody>\n",
       "</table>\n",
       "</div>"
      ],
      "text/plain": [
       "    Actual Value  Predicted Value  difference\n",
       "0       2.564638         2.584535   -0.019897\n",
       "1       2.115496         2.052507    0.062989\n",
       "2       2.061614         2.088640   -0.027026\n",
       "3       2.800874         2.840806   -0.039932\n",
       "4       2.710485         2.711313   -0.000828\n",
       "5       4.366598         4.301131    0.065467\n",
       "6       2.596367         2.626786   -0.030419\n",
       "7       2.979889         2.972430    0.007460\n",
       "8       2.339749         2.391894   -0.052146\n",
       "9       4.635307         4.667916   -0.032609\n",
       "10      2.278559         2.184701    0.093859\n",
       "11      2.379925         2.582594   -0.202669\n",
       "12      4.499206         4.434682    0.064525"
      ]
     },
     "execution_count": 15,
     "metadata": {},
     "output_type": "execute_result"
    }
   ],
   "source": [
    "# .ravel() is used to convert 2D arrays to 1D arrays\n",
    "\n",
    "pred_df = pd.DataFrame({\n",
    "    'Actual Value': Y_test.ravel(),\n",
    "    'Predicted Value': Y_pred_test.ravel(),\n",
    "    'difference': (Y_test - Y_pred_test).ravel()\n",
    "})\n",
    "pred_df"
   ]
  },
  {
   "cell_type": "markdown",
   "id": "3aee8144",
   "metadata": {},
   "source": [
    "##### The difference is very less so this shows that our model is pretty accurate"
   ]
  },
  {
   "cell_type": "markdown",
   "id": "805080d3",
   "metadata": {},
   "source": [
    "#### SLR errors (inbuilt funcs)"
   ]
  },
  {
   "cell_type": "code",
   "execution_count": 16,
   "id": "6ec7328d",
   "metadata": {},
   "outputs": [
    {
     "data": {
      "text/plain": [
       "0.05383270724852865"
      ]
     },
     "execution_count": 16,
     "metadata": {},
     "output_type": "execute_result"
    }
   ],
   "source": [
    "# Mean Absolute Error\n",
    "MAE = mean_absolute_error(Y_test, Y_pred_test)\n",
    "MAE"
   ]
  },
  {
   "cell_type": "code",
   "execution_count": 17,
   "id": "e8f61d39",
   "metadata": {},
   "outputs": [
    {
     "data": {
      "text/plain": [
       "0.005368175357296228"
      ]
     },
     "execution_count": 17,
     "metadata": {},
     "output_type": "execute_result"
    }
   ],
   "source": [
    "# Mean Squared Error\n",
    "MSE = mean_squared_error(Y_test, Y_pred_test)\n",
    "MSE"
   ]
  },
  {
   "cell_type": "code",
   "execution_count": 18,
   "id": "54a80da9",
   "metadata": {},
   "outputs": [
    {
     "data": {
      "text/plain": [
       "0.07326783303262237"
      ]
     },
     "execution_count": 18,
     "metadata": {},
     "output_type": "execute_result"
    }
   ],
   "source": [
    "RMSE = np.sqrt(MSE)\n",
    "RMSE"
   ]
  },
  {
   "cell_type": "code",
   "execution_count": 19,
   "id": "8d83f8e0",
   "metadata": {},
   "outputs": [
    {
     "data": {
      "text/plain": [
       "0.06978627964485097"
      ]
     },
     "execution_count": 19,
     "metadata": {},
     "output_type": "execute_result"
    }
   ],
   "source": [
    "# Sum of Squared Residuals\n",
    "SSR = ((Y_pred_test - Y_test)**2).sum()\n",
    "SSR"
   ]
  },
  {
   "cell_type": "markdown",
   "id": "d8cd49bb",
   "metadata": {},
   "source": [
    "#### SLR errors (manually computed)"
   ]
  },
  {
   "cell_type": "code",
   "execution_count": 20,
   "id": "4652b38e",
   "metadata": {},
   "outputs": [
    {
     "data": {
      "text/plain": [
       "0.05383270724852865"
      ]
     },
     "execution_count": 20,
     "metadata": {},
     "output_type": "execute_result"
    }
   ],
   "source": [
    "# Calculate Mean Absolute Error (MAE)\n",
    "mae = np.mean(np.abs(Y_test - Y_pred_test))\n",
    "mae"
   ]
  },
  {
   "cell_type": "code",
   "execution_count": 21,
   "id": "bc668163",
   "metadata": {},
   "outputs": [
    {
     "data": {
      "text/plain": [
       "0.005368175357296228"
      ]
     },
     "execution_count": 21,
     "metadata": {},
     "output_type": "execute_result"
    }
   ],
   "source": [
    "# Calculate Mean Squared Error (MSE)\n",
    "mse = np.mean((Y_test - Y_pred_test)**2)\n",
    "mse"
   ]
  },
  {
   "cell_type": "code",
   "execution_count": 22,
   "id": "023fe716",
   "metadata": {},
   "outputs": [
    {
     "data": {
      "text/plain": [
       "0.06978627964485097"
      ]
     },
     "execution_count": 22,
     "metadata": {},
     "output_type": "execute_result"
    }
   ],
   "source": [
    "# Calculate Sum of Squared Residuals (SSR)\n",
    "ssr = np.sum((Y_pred_test - Y_test)**2)\n",
    "ssr"
   ]
  },
  {
   "cell_type": "markdown",
   "id": "709fb943",
   "metadata": {},
   "source": [
    "###### We can see that the manually computed MAE, MSE, SSR are equal to the ones that we Calculated using inbuilt functions"
   ]
  },
  {
   "cell_type": "markdown",
   "id": "340ff20e",
   "metadata": {},
   "source": [
    "## (b) Student Marks"
   ]
  },
  {
   "cell_type": "markdown",
   "id": "ca6a2d6b",
   "metadata": {},
   "source": [
    "#### Generating Random Dataset"
   ]
  },
  {
   "cell_type": "code",
   "execution_count": 23,
   "id": "b4d1263f",
   "metadata": {},
   "outputs": [],
   "source": [
    "np.random.seed(123)\n",
    "\n",
    "n = 50\n",
    "\n",
    "X = np.random.randint(0, 50, n)\n",
    "Y = 2 + 0.2*X + np.random.uniform(0, 1, n)\n",
    "Y = Y / np.max(Y) * 10"
   ]
  },
  {
   "cell_type": "code",
   "execution_count": 24,
   "id": "afe2ab59",
   "metadata": {
    "scrolled": true
   },
   "outputs": [
    {
     "data": {
      "text/html": [
       "<div>\n",
       "<style scoped>\n",
       "    .dataframe tbody tr th:only-of-type {\n",
       "        vertical-align: middle;\n",
       "    }\n",
       "\n",
       "    .dataframe tbody tr th {\n",
       "        vertical-align: top;\n",
       "    }\n",
       "\n",
       "    .dataframe thead th {\n",
       "        text-align: right;\n",
       "    }\n",
       "</style>\n",
       "<table border=\"1\" class=\"dataframe\">\n",
       "  <thead>\n",
       "    <tr style=\"text-align: right;\">\n",
       "      <th></th>\n",
       "      <th>Marks</th>\n",
       "      <th>Grade</th>\n",
       "    </tr>\n",
       "  </thead>\n",
       "  <tbody>\n",
       "    <tr>\n",
       "      <th>0</th>\n",
       "      <td>45</td>\n",
       "      <td>9.189348</td>\n",
       "    </tr>\n",
       "    <tr>\n",
       "      <th>1</th>\n",
       "      <td>2</td>\n",
       "      <td>2.275185</td>\n",
       "    </tr>\n",
       "    <tr>\n",
       "      <th>2</th>\n",
       "      <td>28</td>\n",
       "      <td>6.504953</td>\n",
       "    </tr>\n",
       "    <tr>\n",
       "      <th>3</th>\n",
       "      <td>34</td>\n",
       "      <td>7.414866</td>\n",
       "    </tr>\n",
       "    <tr>\n",
       "      <th>4</th>\n",
       "      <td>38</td>\n",
       "      <td>7.966556</td>\n",
       "    </tr>\n",
       "  </tbody>\n",
       "</table>\n",
       "</div>"
      ],
      "text/plain": [
       "   Marks     Grade\n",
       "0     45  9.189348\n",
       "1      2  2.275185\n",
       "2     28  6.504953\n",
       "3     34  7.414866\n",
       "4     38  7.966556"
      ]
     },
     "execution_count": 24,
     "metadata": {},
     "output_type": "execute_result"
    }
   ],
   "source": [
    "sample = {'Marks' : X,\n",
    "       'Grade': Y}\n",
    "\n",
    "df = pd.DataFrame(sample)\n",
    "\n",
    "# To make X and Y to 2D array\n",
    "X = np.array(X).reshape(-1,1)\n",
    "Y = np.array(Y).reshape(-1,1)\n",
    "\n",
    "# Splitting the dataset into the specified value by test size\n",
    "X_train, X_test, Y_train, Y_test = train_test_split(X, Y, test_size=1/4, random_state=0)\n",
    "\n",
    "df.head()"
   ]
  },
  {
   "cell_type": "code",
   "execution_count": 25,
   "id": "32a1c3f5",
   "metadata": {},
   "outputs": [],
   "source": [
    "slr = LinearRegression()"
   ]
  },
  {
   "cell_type": "markdown",
   "id": "a7d9bf77",
   "metadata": {},
   "source": [
    "#### Training the data"
   ]
  },
  {
   "cell_type": "code",
   "execution_count": 26,
   "id": "6265ff57",
   "metadata": {},
   "outputs": [
    {
     "data": {
      "text/plain": [
       "LinearRegression()"
      ]
     },
     "execution_count": 26,
     "metadata": {},
     "output_type": "execute_result"
    }
   ],
   "source": [
    "slr.fit(X_train, Y_train)"
   ]
  },
  {
   "cell_type": "markdown",
   "id": "35608227",
   "metadata": {},
   "source": [
    "#### SLR Coeffs"
   ]
  },
  {
   "cell_type": "code",
   "execution_count": 27,
   "id": "4efdc5c1",
   "metadata": {},
   "outputs": [
    {
     "data": {
      "text/plain": [
       "array([[0.16212461]])"
      ]
     },
     "execution_count": 27,
     "metadata": {},
     "output_type": "execute_result"
    }
   ],
   "source": [
    "m = slr.coef_\n",
    "m"
   ]
  },
  {
   "cell_type": "code",
   "execution_count": 28,
   "id": "21bf4974",
   "metadata": {},
   "outputs": [
    {
     "data": {
      "text/plain": [
       "array([1.96274394])"
      ]
     },
     "execution_count": 28,
     "metadata": {},
     "output_type": "execute_result"
    }
   ],
   "source": [
    "c = slr.intercept_\n",
    "c"
   ]
  },
  {
   "cell_type": "markdown",
   "id": "30219733",
   "metadata": {},
   "source": [
    "#### Regression Graph"
   ]
  },
  {
   "cell_type": "markdown",
   "id": "c756c94a",
   "metadata": {},
   "source": [
    "##### Trained Data"
   ]
  },
  {
   "cell_type": "code",
   "execution_count": 29,
   "id": "4b058dfb",
   "metadata": {},
   "outputs": [
    {
     "data": {
      "text/plain": [
       "array([3.0976162 , 6.01585915, 8.7719775 , 7.15073142, 3.90823924,\n",
       "       8.7719775 , 8.28560368, 9.42047594, 2.28699316, 9.58260055,\n",
       "       7.15073142, 6.34010837, 4.23248846, 7.47498063, 5.52948533,\n",
       "       3.42186542, 9.90684976, 4.71886229, 9.58260055, 5.36736072,\n",
       "       2.77336698, 2.28699316, 9.58260055, 6.50223298, 2.61124237,\n",
       "       5.0431115 , 4.55673768, 7.63710524, 7.79922985, 5.0431115 ,\n",
       "       7.31285602, 7.31285602, 8.44772828, 7.47498063, 9.25835133,\n",
       "       2.44911776, 7.31285602])"
      ]
     },
     "execution_count": 29,
     "metadata": {},
     "output_type": "execute_result"
    }
   ],
   "source": [
    "Y_pred_train = slr.predict(X_train)\n",
    "Y_pred_train.flatten()"
   ]
  },
  {
   "cell_type": "code",
   "execution_count": 30,
   "id": "bbcde73d",
   "metadata": {},
   "outputs": [
    {
     "data": {
      "image/png": "[encoded data removed]",
      "text/plain": [
       "<Figure size 640x480 with 1 Axes>"
      ]
     },
     "metadata": {},
     "output_type": "display_data"
    }
   ],
   "source": [
    "plt.scatter(X_train, Y_train, color = 'red')\n",
    "plt.plot(X_train, Y_pred_train, color='blue', linewidth=3)\n",
    "\n",
    "plt.xlabel('Actual')\n",
    "plt.ylabel('Predicted')\n",
    "plt.title('Actual VS Predicted')\n",
    "plt.show()"
   ]
  },
  {
   "cell_type": "code",
   "execution_count": 31,
   "id": "654b078a",
   "metadata": {},
   "outputs": [
    {
     "data": {
      "text/plain": [
       "0.9924149248061614"
      ]
     },
     "execution_count": 31,
     "metadata": {},
     "output_type": "execute_result"
    }
   ],
   "source": [
    "r2_score(Y_train, Y_pred_train)"
   ]
  },
  {
   "cell_type": "markdown",
   "id": "443bf80b",
   "metadata": {},
   "source": [
    "##### Tested Data"
   ]
  },
  {
   "cell_type": "code",
   "execution_count": 32,
   "id": "eb8321d8",
   "metadata": {},
   "outputs": [
    {
     "data": {
      "text/plain": [
       "array([5.20523611, 9.90684976, 7.15073142, 6.8264822 , 6.50223298,\n",
       "       2.28699316, 8.12347907, 5.20523611, 7.15073142, 8.12347907,\n",
       "       9.74472515, 8.60985289, 2.44911776])"
      ]
     },
     "execution_count": 32,
     "metadata": {},
     "output_type": "execute_result"
    }
   ],
   "source": [
    "Y_pred_test = slr.predict(X_test)\n",
    "Y_pred_test.flatten()"
   ]
  },
  {
   "cell_type": "code",
   "execution_count": 33,
   "id": "864eeb4f",
   "metadata": {
    "scrolled": false
   },
   "outputs": [
    {
     "data": {
      "image/png": "[encoded data removed]",
      "text/plain": [
       "<Figure size 640x480 with 1 Axes>"
      ]
     },
     "metadata": {},
     "output_type": "display_data"
    }
   ],
   "source": [
    "plt.scatter(X_test, Y_test, color = 'red')\n",
    "plt.plot(X_test, Y_pred_test, color='blue', linewidth=3)\n",
    "\n",
    "plt.xlabel('Actual')\n",
    "plt.ylabel('Predicted')\n",
    "plt.title('Actual VS Predicted')\n",
    "plt.show()"
   ]
  },
  {
   "cell_type": "code",
   "execution_count": 34,
   "id": "26450411",
   "metadata": {},
   "outputs": [
    {
     "data": {
      "text/plain": [
       "0.9933350857246259"
      ]
     },
     "execution_count": 34,
     "metadata": {},
     "output_type": "execute_result"
    }
   ],
   "source": [
    "r2_score(Y_test, Y_pred_test)"
   ]
  },
  {
   "cell_type": "code",
   "execution_count": 35,
   "id": "c00b896f",
   "metadata": {},
   "outputs": [
    {
     "data": {
      "text/html": [
       "<div>\n",
       "<style scoped>\n",
       "    .dataframe tbody tr th:only-of-type {\n",
       "        vertical-align: middle;\n",
       "    }\n",
       "\n",
       "    .dataframe tbody tr th {\n",
       "        vertical-align: top;\n",
       "    }\n",
       "\n",
       "    .dataframe thead th {\n",
       "        text-align: right;\n",
       "    }\n",
       "</style>\n",
       "<table border=\"1\" class=\"dataframe\">\n",
       "  <thead>\n",
       "    <tr style=\"text-align: right;\">\n",
       "      <th></th>\n",
       "      <th>Actual Value</th>\n",
       "      <th>Predicted Value</th>\n",
       "      <th>difference</th>\n",
       "    </tr>\n",
       "  </thead>\n",
       "  <tbody>\n",
       "    <tr>\n",
       "      <th>0</th>\n",
       "      <td>5.232473</td>\n",
       "      <td>5.205236</td>\n",
       "      <td>0.027237</td>\n",
       "    </tr>\n",
       "    <tr>\n",
       "      <th>1</th>\n",
       "      <td>9.738749</td>\n",
       "      <td>9.906850</td>\n",
       "      <td>-0.168100</td>\n",
       "    </tr>\n",
       "    <tr>\n",
       "      <th>2</th>\n",
       "      <td>6.844064</td>\n",
       "      <td>7.150731</td>\n",
       "      <td>-0.306668</td>\n",
       "    </tr>\n",
       "    <tr>\n",
       "      <th>3</th>\n",
       "      <td>6.933782</td>\n",
       "      <td>6.826482</td>\n",
       "      <td>0.107300</td>\n",
       "    </tr>\n",
       "    <tr>\n",
       "      <th>4</th>\n",
       "      <td>6.504953</td>\n",
       "      <td>6.502233</td>\n",
       "      <td>0.002720</td>\n",
       "    </tr>\n",
       "    <tr>\n",
       "      <th>5</th>\n",
       "      <td>2.632508</td>\n",
       "      <td>2.286993</td>\n",
       "      <td>0.345515</td>\n",
       "    </tr>\n",
       "    <tr>\n",
       "      <th>6</th>\n",
       "      <td>8.175677</td>\n",
       "      <td>8.123479</td>\n",
       "      <td>0.052198</td>\n",
       "    </tr>\n",
       "    <tr>\n",
       "      <th>7</th>\n",
       "      <td>5.324483</td>\n",
       "      <td>5.205236</td>\n",
       "      <td>0.119246</td>\n",
       "    </tr>\n",
       "    <tr>\n",
       "      <th>8</th>\n",
       "      <td>7.189215</td>\n",
       "      <td>7.150731</td>\n",
       "      <td>0.038484</td>\n",
       "    </tr>\n",
       "    <tr>\n",
       "      <th>9</th>\n",
       "      <td>7.966556</td>\n",
       "      <td>8.123479</td>\n",
       "      <td>-0.156924</td>\n",
       "    </tr>\n",
       "    <tr>\n",
       "      <th>10</th>\n",
       "      <td>10.000000</td>\n",
       "      <td>9.744725</td>\n",
       "      <td>0.255275</td>\n",
       "    </tr>\n",
       "    <tr>\n",
       "      <th>11</th>\n",
       "      <td>8.811591</td>\n",
       "      <td>8.609853</td>\n",
       "      <td>0.201738</td>\n",
       "    </tr>\n",
       "    <tr>\n",
       "      <th>12</th>\n",
       "      <td>2.637205</td>\n",
       "      <td>2.449118</td>\n",
       "      <td>0.188087</td>\n",
       "    </tr>\n",
       "  </tbody>\n",
       "</table>\n",
       "</div>"
      ],
      "text/plain": [
       "    Actual Value  Predicted Value  difference\n",
       "0       5.232473         5.205236    0.027237\n",
       "1       9.738749         9.906850   -0.168100\n",
       "2       6.844064         7.150731   -0.306668\n",
       "3       6.933782         6.826482    0.107300\n",
       "4       6.504953         6.502233    0.002720\n",
       "5       2.632508         2.286993    0.345515\n",
       "6       8.175677         8.123479    0.052198\n",
       "7       5.324483         5.205236    0.119246\n",
       "8       7.189215         7.150731    0.038484\n",
       "9       7.966556         8.123479   -0.156924\n",
       "10     10.000000         9.744725    0.255275\n",
       "11      8.811591         8.609853    0.201738\n",
       "12      2.637205         2.449118    0.188087"
      ]
     },
     "execution_count": 35,
     "metadata": {},
     "output_type": "execute_result"
    }
   ],
   "source": [
    "pred_df = pd.DataFrame({\n",
    "    'Actual Value': Y_test.ravel(),\n",
    "    'Predicted Value': Y_pred_test.ravel(),\n",
    "    'difference': (Y_test - Y_pred_test).ravel()\n",
    "})\n",
    "pred_df"
   ]
  },
  {
   "cell_type": "code",
   "execution_count": 36,
   "id": "5ef564e4",
   "metadata": {},
   "outputs": [
    {
     "data": {
      "text/plain": [
       "array([[1.96274394]])"
      ]
     },
     "execution_count": 36,
     "metadata": {},
     "output_type": "execute_result"
    }
   ],
   "source": [
    "new_data = np.random.randint(0,51,1)\n",
    "new_data = [new_data]\n",
    "slr.predict(new_data)"
   ]
  },
  {
   "cell_type": "code",
   "execution_count": 37,
   "id": "dfd102b9",
   "metadata": {},
   "outputs": [
    {
     "data": {
      "text/plain": [
       "0.15149933413849898"
      ]
     },
     "execution_count": 37,
     "metadata": {},
     "output_type": "execute_result"
    }
   ],
   "source": [
    "# Mean Absolute Error\n",
    "MAE = mean_absolute_error(Y_test, Y_pred_test)\n",
    "MAE"
   ]
  },
  {
   "cell_type": "code",
   "execution_count": 38,
   "id": "6cdeacc8",
   "metadata": {},
   "outputs": [
    {
     "data": {
      "text/plain": [
       "0.033710497849053396"
      ]
     },
     "execution_count": 38,
     "metadata": {},
     "output_type": "execute_result"
    }
   ],
   "source": [
    "# Mean Squared Error\n",
    "MSE = mean_squared_error(Y_test, Y_pred_test)\n",
    "MSE"
   ]
  },
  {
   "cell_type": "code",
   "execution_count": 39,
   "id": "aca7403a",
   "metadata": {},
   "outputs": [
    {
     "data": {
      "text/plain": [
       "0.18360418799431943"
      ]
     },
     "execution_count": 39,
     "metadata": {},
     "output_type": "execute_result"
    }
   ],
   "source": [
    "# Root Mean Squared Error\n",
    "RMSE = np.sqrt(MSE)\n",
    "RMSE"
   ]
  },
  {
   "cell_type": "code",
   "execution_count": 40,
   "id": "8bdb0add",
   "metadata": {},
   "outputs": [
    {
     "data": {
      "text/plain": [
       "0.4382364720376941"
      ]
     },
     "execution_count": 40,
     "metadata": {},
     "output_type": "execute_result"
    }
   ],
   "source": [
    "# Sum of Squared Residuals\n",
    "SSR = ((Y_pred_test - Y_test)**2).sum()\n",
    "SSR"
   ]
  },
  {
   "cell_type": "markdown",
   "id": "a1899843",
   "metadata": {},
   "source": [
    "#### The difference is very less so this shows that our model is pretty accurate"
   ]
  },
  {
   "cell_type": "markdown",
   "id": "36241c02",
   "metadata": {},
   "source": [
    "# Q2"
   ]
  },
  {
   "cell_type": "markdown",
   "id": "106e0866",
   "metadata": {},
   "source": [
    "## a) Student Marks"
   ]
  },
  {
   "cell_type": "code",
   "execution_count": 41,
   "id": "97738cfa",
   "metadata": {},
   "outputs": [
    {
     "data": {
      "text/html": [
       "<div>\n",
       "<style scoped>\n",
       "    .dataframe tbody tr th:only-of-type {\n",
       "        vertical-align: middle;\n",
       "    }\n",
       "\n",
       "    .dataframe tbody tr th {\n",
       "        vertical-align: top;\n",
       "    }\n",
       "\n",
       "    .dataframe thead th {\n",
       "        text-align: right;\n",
       "    }\n",
       "</style>\n",
       "<table border=\"1\" class=\"dataframe\">\n",
       "  <thead>\n",
       "    <tr style=\"text-align: right;\">\n",
       "      <th></th>\n",
       "      <th>Marks1</th>\n",
       "      <th>Marks2</th>\n",
       "      <th>Marks3</th>\n",
       "      <th>Grade</th>\n",
       "    </tr>\n",
       "  </thead>\n",
       "  <tbody>\n",
       "    <tr>\n",
       "      <th>0</th>\n",
       "      <td>45</td>\n",
       "      <td>0</td>\n",
       "      <td>30</td>\n",
       "      <td>6.774019</td>\n",
       "    </tr>\n",
       "    <tr>\n",
       "      <th>1</th>\n",
       "      <td>2</td>\n",
       "      <td>11</td>\n",
       "      <td>6</td>\n",
       "      <td>1.795978</td>\n",
       "    </tr>\n",
       "    <tr>\n",
       "      <th>2</th>\n",
       "      <td>28</td>\n",
       "      <td>34</td>\n",
       "      <td>9</td>\n",
       "      <td>6.661166</td>\n",
       "    </tr>\n",
       "    <tr>\n",
       "      <th>3</th>\n",
       "      <td>34</td>\n",
       "      <td>10</td>\n",
       "      <td>23</td>\n",
       "      <td>5.860491</td>\n",
       "    </tr>\n",
       "    <tr>\n",
       "      <th>4</th>\n",
       "      <td>38</td>\n",
       "      <td>22</td>\n",
       "      <td>14</td>\n",
       "      <td>7.046376</td>\n",
       "    </tr>\n",
       "  </tbody>\n",
       "</table>\n",
       "</div>"
      ],
      "text/plain": [
       "   Marks1  Marks2  Marks3     Grade\n",
       "0      45       0      30  6.774019\n",
       "1       2      11       6  1.795978\n",
       "2      28      34       9  6.661166\n",
       "3      34      10      23  5.860491\n",
       "4      38      22      14  7.046376"
      ]
     },
     "execution_count": 41,
     "metadata": {},
     "output_type": "execute_result"
    }
   ],
   "source": [
    "np.random.seed(123)\n",
    "\n",
    "n = 50\n",
    "\n",
    "X1 = np.random.randint(0, 51, n)\n",
    "X2 = np.random.randint(0, 51, n)\n",
    "X3 = np.random.randint(0, 51, n)\n",
    "\n",
    "Y = 2 + 0.5*X1 + 0.3*X2 + 0.1*X3 + np.random.uniform(0, 1, n)\n",
    "Y = Y / np.max(Y) * 10\n",
    "\n",
    "df = pd.DataFrame({'Marks1': X1, 'Marks2': X2, 'Marks3': X3, 'Grade': Y})\n",
    "\n",
    "X = df.drop(columns = 'Grade')\n",
    "y = df['Grade']\n",
    "\n",
    "X_train, X_test, Y_train, Y_test = train_test_split(X, Y, test_size=1/4, random_state=0)\n",
    "df.head()"
   ]
  },
  {
   "cell_type": "code",
   "execution_count": 42,
   "id": "b29e3f04",
   "metadata": {},
   "outputs": [],
   "source": [
    "mlr = LinearRegression()"
   ]
  },
  {
   "cell_type": "code",
   "execution_count": 43,
   "id": "a6059416",
   "metadata": {},
   "outputs": [
    {
     "data": {
      "text/plain": [
       "LinearRegression()"
      ]
     },
     "execution_count": 43,
     "metadata": {},
     "output_type": "execute_result"
    }
   ],
   "source": [
    "mlr.fit(X_train,Y_train)"
   ]
  },
  {
   "cell_type": "code",
   "execution_count": 44,
   "id": "280255b7",
   "metadata": {},
   "outputs": [
    {
     "data": {
      "text/plain": [
       "array([0.11933828, 0.07112262, 0.02408327])"
      ]
     },
     "execution_count": 44,
     "metadata": {},
     "output_type": "execute_result"
    }
   ],
   "source": [
    "m = mlr.coef_\n",
    "m"
   ]
  },
  {
   "cell_type": "code",
   "execution_count": 45,
   "id": "74fcf66b",
   "metadata": {},
   "outputs": [
    {
     "data": {
      "text/plain": [
       "0.6218907737878938"
      ]
     },
     "execution_count": 45,
     "metadata": {},
     "output_type": "execute_result"
    }
   ],
   "source": [
    "c = mlr.intercept_\n",
    "c"
   ]
  },
  {
   "cell_type": "code",
   "execution_count": 46,
   "id": "24434a1d",
   "metadata": {},
   "outputs": [
    {
     "data": {
      "text/plain": [
       "array([4.83086833, 5.68481183, 8.33901257, 8.48414825, 5.88514194,\n",
       "       6.72953002, 7.30963565, 8.80355446, 2.14077448, 7.00032763,\n",
       "       5.602761  , 5.40984923, 3.19539191, 7.51712191, 4.60317156,\n",
       "       2.36350377, 8.60878121, 4.49040004, 7.78943966, 3.36544584,\n",
       "       2.10628171, 1.78741579, 9.47229923, 7.61695393, 4.8386114 ,\n",
       "       4.62710749, 6.11940793, 7.4415396 , 6.37925825, 6.04843266,\n",
       "       8.26857511, 5.68858637, 8.3915897 , 5.94453388, 6.71461172,\n",
       "       1.33777312, 7.50241916])"
      ]
     },
     "execution_count": 46,
     "metadata": {},
     "output_type": "execute_result"
    }
   ],
   "source": [
    "Y_pred_train = mlr.predict(X_train)\n",
    "Y_pred_train"
   ]
  },
  {
   "cell_type": "code",
   "execution_count": 47,
   "id": "b9527753",
   "metadata": {},
   "outputs": [
    {
     "data": {
      "text/plain": [
       "0.9992218363017696"
      ]
     },
     "execution_count": 47,
     "metadata": {},
     "output_type": "execute_result"
    }
   ],
   "source": [
    "r2_score(Y_train, Y_pred_train)"
   ]
  },
  {
   "cell_type": "code",
   "execution_count": 48,
   "id": "45753af2",
   "metadata": {},
   "outputs": [
    {
     "data": {
      "image/png": "[encoded data removed]",
      "text/plain": [
       "<Figure size 640x480 with 1 Axes>"
      ]
     },
     "metadata": {},
     "output_type": "display_data"
    }
   ],
   "source": [
    "plt.scatter(Y_train, Y_pred_train, color = 'blue')\n",
    "plt.xlabel('Actual')\n",
    "plt.ylabel('Predicted')\n",
    "plt.title('Actual VS Predicted')\n",
    "\n",
    "x = np.linspace(0, np.max(Y_train))\n",
    "plt.plot(x, x, color='red', linewidth = 3)\n",
    "\n",
    "plt.show()"
   ]
  },
  {
   "cell_type": "code",
   "execution_count": 49,
   "id": "df87a9b2",
   "metadata": {},
   "outputs": [
    {
     "data": {
      "text/plain": [
       "array([ 7.57741207, 10.00827751,  7.27619094,  5.27338735,  6.5982812 ,\n",
       "        2.88510156,  7.41985808,  5.06065554,  5.59558577,  7.05860897,\n",
       "        9.50360685,  9.02497916,  5.49936751])"
      ]
     },
     "execution_count": 49,
     "metadata": {},
     "output_type": "execute_result"
    }
   ],
   "source": [
    "Y_pred_test = mlr.predict(X_test)\n",
    "Y_pred_test"
   ]
  },
  {
   "cell_type": "code",
   "execution_count": 50,
   "id": "36bd6589",
   "metadata": {
    "scrolled": false
   },
   "outputs": [
    {
     "data": {
      "image/png": "[encoded data removed]",
      "text/plain": [
       "<Figure size 640x480 with 1 Axes>"
      ]
     },
     "metadata": {},
     "output_type": "display_data"
    }
   ],
   "source": [
    "plt.scatter(Y_test, Y_pred_test, color = 'blue')\n",
    "plt.xlabel('Actual')\n",
    "plt.ylabel('Predicted')\n",
    "plt.title('Actual VS Predicted')\n",
    "\n",
    "x = np.linspace(0, np.max(Y_test))\n",
    "plt.plot(x, x, color='red', linewidth = 3)\n",
    "\n",
    "plt.show()"
   ]
  },
  {
   "cell_type": "code",
   "execution_count": 51,
   "id": "136bf253",
   "metadata": {},
   "outputs": [
    {
     "data": {
      "text/plain": [
       "0.06475549327490349"
      ]
     },
     "execution_count": 51,
     "metadata": {},
     "output_type": "execute_result"
    }
   ],
   "source": [
    "# Mean Absolute Error\n",
    "MAE = mean_absolute_error(Y_test, Y_pred_test)\n",
    "MAE"
   ]
  },
  {
   "cell_type": "code",
   "execution_count": 52,
   "id": "1192013c",
   "metadata": {},
   "outputs": [
    {
     "data": {
      "text/plain": [
       "0.00591181822627103"
      ]
     },
     "execution_count": 52,
     "metadata": {},
     "output_type": "execute_result"
    }
   ],
   "source": [
    "# Mean Squared Error\n",
    "MSE = mean_squared_error(Y_test, Y_pred_test)\n",
    "MSE"
   ]
  },
  {
   "cell_type": "code",
   "execution_count": 53,
   "id": "43a7ff8d",
   "metadata": {},
   "outputs": [
    {
     "data": {
      "text/plain": [
       "0.07688834909315605"
      ]
     },
     "execution_count": 53,
     "metadata": {},
     "output_type": "execute_result"
    }
   ],
   "source": [
    "# Root Mean Squared Error\n",
    "RMSE = np.sqrt(MSE)\n",
    "RMSE"
   ]
  },
  {
   "cell_type": "code",
   "execution_count": 54,
   "id": "16e54b73",
   "metadata": {},
   "outputs": [
    {
     "data": {
      "text/plain": [
       "0.07685363694152339"
      ]
     },
     "execution_count": 54,
     "metadata": {},
     "output_type": "execute_result"
    }
   ],
   "source": [
    "# Sum of Squared Residuals\n",
    "SSR = ((Y_pred_test - Y_test)**2).sum()\n",
    "SSR"
   ]
  },
  {
   "cell_type": "code",
   "execution_count": 55,
   "id": "a4628b42",
   "metadata": {},
   "outputs": [
    {
     "data": {
      "text/plain": [
       "0.9983315615337198"
      ]
     },
     "execution_count": 55,
     "metadata": {},
     "output_type": "execute_result"
    }
   ],
   "source": [
    "r2_score(Y_test, Y_pred_test)"
   ]
  },
  {
   "cell_type": "code",
   "execution_count": 56,
   "id": "67a9c758",
   "metadata": {
    "scrolled": false
   },
   "outputs": [
    {
     "data": {
      "text/html": [
       "<div>\n",
       "<style scoped>\n",
       "    .dataframe tbody tr th:only-of-type {\n",
       "        vertical-align: middle;\n",
       "    }\n",
       "\n",
       "    .dataframe tbody tr th {\n",
       "        vertical-align: top;\n",
       "    }\n",
       "\n",
       "    .dataframe thead th {\n",
       "        text-align: right;\n",
       "    }\n",
       "</style>\n",
       "<table border=\"1\" class=\"dataframe\">\n",
       "  <thead>\n",
       "    <tr style=\"text-align: right;\">\n",
       "      <th></th>\n",
       "      <th>Actual Value</th>\n",
       "      <th>Predicted Value</th>\n",
       "      <th>difference</th>\n",
       "    </tr>\n",
       "  </thead>\n",
       "  <tbody>\n",
       "    <tr>\n",
       "      <th>0</th>\n",
       "      <td>7.527839</td>\n",
       "      <td>7.577412</td>\n",
       "      <td>-0.049573</td>\n",
       "    </tr>\n",
       "    <tr>\n",
       "      <th>1</th>\n",
       "      <td>10.000000</td>\n",
       "      <td>10.008278</td>\n",
       "      <td>-0.008278</td>\n",
       "    </tr>\n",
       "    <tr>\n",
       "      <th>2</th>\n",
       "      <td>7.197859</td>\n",
       "      <td>7.276191</td>\n",
       "      <td>-0.078332</td>\n",
       "    </tr>\n",
       "    <tr>\n",
       "      <th>3</th>\n",
       "      <td>5.388891</td>\n",
       "      <td>5.273387</td>\n",
       "      <td>0.115504</td>\n",
       "    </tr>\n",
       "    <tr>\n",
       "      <th>4</th>\n",
       "      <td>6.661166</td>\n",
       "      <td>6.598281</td>\n",
       "      <td>0.062884</td>\n",
       "    </tr>\n",
       "    <tr>\n",
       "      <th>5</th>\n",
       "      <td>2.973335</td>\n",
       "      <td>2.885102</td>\n",
       "      <td>0.088233</td>\n",
       "    </tr>\n",
       "    <tr>\n",
       "      <th>6</th>\n",
       "      <td>7.348901</td>\n",
       "      <td>7.419858</td>\n",
       "      <td>-0.070957</td>\n",
       "    </tr>\n",
       "    <tr>\n",
       "      <th>7</th>\n",
       "      <td>5.153617</td>\n",
       "      <td>5.060656</td>\n",
       "      <td>0.092962</td>\n",
       "    </tr>\n",
       "    <tr>\n",
       "      <th>8</th>\n",
       "      <td>5.597138</td>\n",
       "      <td>5.595586</td>\n",
       "      <td>0.001553</td>\n",
       "    </tr>\n",
       "    <tr>\n",
       "      <th>9</th>\n",
       "      <td>7.046376</td>\n",
       "      <td>7.058609</td>\n",
       "      <td>-0.012233</td>\n",
       "    </tr>\n",
       "    <tr>\n",
       "      <th>10</th>\n",
       "      <td>9.481223</td>\n",
       "      <td>9.503607</td>\n",
       "      <td>-0.022383</td>\n",
       "    </tr>\n",
       "    <tr>\n",
       "      <th>11</th>\n",
       "      <td>9.133547</td>\n",
       "      <td>9.024979</td>\n",
       "      <td>0.108568</td>\n",
       "    </tr>\n",
       "    <tr>\n",
       "      <th>12</th>\n",
       "      <td>5.629729</td>\n",
       "      <td>5.499368</td>\n",
       "      <td>0.130362</td>\n",
       "    </tr>\n",
       "  </tbody>\n",
       "</table>\n",
       "</div>"
      ],
      "text/plain": [
       "    Actual Value  Predicted Value  difference\n",
       "0       7.527839         7.577412   -0.049573\n",
       "1      10.000000        10.008278   -0.008278\n",
       "2       7.197859         7.276191   -0.078332\n",
       "3       5.388891         5.273387    0.115504\n",
       "4       6.661166         6.598281    0.062884\n",
       "5       2.973335         2.885102    0.088233\n",
       "6       7.348901         7.419858   -0.070957\n",
       "7       5.153617         5.060656    0.092962\n",
       "8       5.597138         5.595586    0.001553\n",
       "9       7.046376         7.058609   -0.012233\n",
       "10      9.481223         9.503607   -0.022383\n",
       "11      9.133547         9.024979    0.108568\n",
       "12      5.629729         5.499368    0.130362"
      ]
     },
     "execution_count": 56,
     "metadata": {},
     "output_type": "execute_result"
    }
   ],
   "source": [
    "pred_df = pd.DataFrame({\n",
    "    'Actual Value': Y_test.ravel(),\n",
    "    'Predicted Value': Y_pred_test.ravel(),\n",
    "    'difference': (Y_test - Y_pred_test).ravel()\n",
    "})\n",
    "pred_df"
   ]
  },
  {
   "cell_type": "code",
   "execution_count": 57,
   "id": "74abe741",
   "metadata": {},
   "outputs": [
    {
     "data": {
      "text/plain": [
       "array([[3.42186542],\n",
       "       [2.28699316],\n",
       "       [7.96135446]])"
      ]
     },
     "execution_count": 57,
     "metadata": {},
     "output_type": "execute_result"
    }
   ],
   "source": [
    "new_data = np.random.randint(0,51,3)\n",
    "new_data =  np.array(new_data).reshape(-1,1)\n",
    "slr.predict(new_data)"
   ]
  },
  {
   "cell_type": "markdown",
   "id": "47ff2cdf",
   "metadata": {},
   "source": [
    "## b) Income"
   ]
  },
  {
   "cell_type": "code",
   "execution_count": 58,
   "id": "845357fe",
   "metadata": {},
   "outputs": [],
   "source": [
    "from sklearn.datasets import fetch_openml"
   ]
  },
  {
   "cell_type": "code",
   "execution_count": 74,
   "id": "6467793f",
   "metadata": {
    "scrolled": false
   },
   "outputs": [
    {
     "data": {
      "text/html": [
       "<div>\n",
       "<style scoped>\n",
       "    .dataframe tbody tr th:only-of-type {\n",
       "        vertical-align: middle;\n",
       "    }\n",
       "\n",
       "    .dataframe tbody tr th {\n",
       "        vertical-align: top;\n",
       "    }\n",
       "\n",
       "    .dataframe thead th {\n",
       "        text-align: right;\n",
       "    }\n",
       "</style>\n",
       "<table border=\"1\" class=\"dataframe\">\n",
       "  <thead>\n",
       "    <tr style=\"text-align: right;\">\n",
       "      <th></th>\n",
       "      <th>CRIM</th>\n",
       "      <th>ZN</th>\n",
       "      <th>INDUS</th>\n",
       "      <th>CHAS</th>\n",
       "      <th>NOX</th>\n",
       "      <th>RM</th>\n",
       "      <th>AGE</th>\n",
       "      <th>DIS</th>\n",
       "      <th>RAD</th>\n",
       "      <th>TAX</th>\n",
       "      <th>PTRATIO</th>\n",
       "      <th>B</th>\n",
       "      <th>LSTAT</th>\n",
       "    </tr>\n",
       "  </thead>\n",
       "  <tbody>\n",
       "    <tr>\n",
       "      <th>0</th>\n",
       "      <td>0.00632</td>\n",
       "      <td>18.0</td>\n",
       "      <td>2.31</td>\n",
       "      <td>0</td>\n",
       "      <td>0.538</td>\n",
       "      <td>6.575</td>\n",
       "      <td>65.2</td>\n",
       "      <td>4.0900</td>\n",
       "      <td>1</td>\n",
       "      <td>296.0</td>\n",
       "      <td>15.3</td>\n",
       "      <td>396.90</td>\n",
       "      <td>4.98</td>\n",
       "    </tr>\n",
       "    <tr>\n",
       "      <th>1</th>\n",
       "      <td>0.02731</td>\n",
       "      <td>0.0</td>\n",
       "      <td>7.07</td>\n",
       "      <td>0</td>\n",
       "      <td>0.469</td>\n",
       "      <td>6.421</td>\n",
       "      <td>78.9</td>\n",
       "      <td>4.9671</td>\n",
       "      <td>2</td>\n",
       "      <td>242.0</td>\n",
       "      <td>17.8</td>\n",
       "      <td>396.90</td>\n",
       "      <td>9.14</td>\n",
       "    </tr>\n",
       "    <tr>\n",
       "      <th>2</th>\n",
       "      <td>0.02729</td>\n",
       "      <td>0.0</td>\n",
       "      <td>7.07</td>\n",
       "      <td>0</td>\n",
       "      <td>0.469</td>\n",
       "      <td>7.185</td>\n",
       "      <td>61.1</td>\n",
       "      <td>4.9671</td>\n",
       "      <td>2</td>\n",
       "      <td>242.0</td>\n",
       "      <td>17.8</td>\n",
       "      <td>392.83</td>\n",
       "      <td>4.03</td>\n",
       "    </tr>\n",
       "    <tr>\n",
       "      <th>3</th>\n",
       "      <td>0.03237</td>\n",
       "      <td>0.0</td>\n",
       "      <td>2.18</td>\n",
       "      <td>0</td>\n",
       "      <td>0.458</td>\n",
       "      <td>6.998</td>\n",
       "      <td>45.8</td>\n",
       "      <td>6.0622</td>\n",
       "      <td>3</td>\n",
       "      <td>222.0</td>\n",
       "      <td>18.7</td>\n",
       "      <td>394.63</td>\n",
       "      <td>2.94</td>\n",
       "    </tr>\n",
       "    <tr>\n",
       "      <th>4</th>\n",
       "      <td>0.06905</td>\n",
       "      <td>0.0</td>\n",
       "      <td>2.18</td>\n",
       "      <td>0</td>\n",
       "      <td>0.458</td>\n",
       "      <td>7.147</td>\n",
       "      <td>54.2</td>\n",
       "      <td>6.0622</td>\n",
       "      <td>3</td>\n",
       "      <td>222.0</td>\n",
       "      <td>18.7</td>\n",
       "      <td>396.90</td>\n",
       "      <td>5.33</td>\n",
       "    </tr>\n",
       "  </tbody>\n",
       "</table>\n",
       "</div>"
      ],
      "text/plain": [
       "      CRIM    ZN  INDUS  CHAS    NOX     RM   AGE     DIS  RAD    TAX  \\\n",
       "0  0.00632  18.0   2.31     0  0.538  6.575  65.2  4.0900    1  296.0   \n",
       "1  0.02731   0.0   7.07     0  0.469  6.421  78.9  4.9671    2  242.0   \n",
       "2  0.02729   0.0   7.07     0  0.469  7.185  61.1  4.9671    2  242.0   \n",
       "3  0.03237   0.0   2.18     0  0.458  6.998  45.8  6.0622    3  222.0   \n",
       "4  0.06905   0.0   2.18     0  0.458  7.147  54.2  6.0622    3  222.0   \n",
       "\n",
       "   PTRATIO       B  LSTAT  \n",
       "0     15.3  396.90   4.98  \n",
       "1     17.8  396.90   9.14  \n",
       "2     17.8  392.83   4.03  \n",
       "3     18.7  394.63   2.94  \n",
       "4     18.7  396.90   5.33  "
      ]
     },
     "execution_count": 74,
     "metadata": {},
     "output_type": "execute_result"
    }
   ],
   "source": [
    "boston = fetch_openml(data_id=531)\n",
    "\n",
    "data = pd.DataFrame(boston.data, columns=boston.feature_names)\n",
    "data['MEDV'] = boston.target\n",
    "\n",
    "data = data.apply(pd.to_numeric)\n",
    "\n",
    "X = data.drop('MEDV', axis=1)\n",
    "y = data['MEDV']\n",
    "\n",
    "X_train, X_test, y_train, y_test = train_test_split(X, y, test_size=0.3, random_state=0)\n",
    "\n",
    "X.head()"
   ]
  },
  {
   "cell_type": "code",
   "execution_count": 60,
   "id": "0d2708b4",
   "metadata": {},
   "outputs": [
    {
     "data": {
      "text/plain": [
       "LinearRegression()"
      ]
     },
     "execution_count": 60,
     "metadata": {},
     "output_type": "execute_result"
    }
   ],
   "source": [
    "mlr = LinearRegression()\n",
    "mlr.fit(X_train, y_train)"
   ]
  },
  {
   "cell_type": "code",
   "execution_count": 61,
   "id": "9e225df2",
   "metadata": {},
   "outputs": [
    {
     "data": {
      "text/plain": [
       "array([-1.21310401e-01,  4.44664254e-02,  1.13416945e-02,  2.51124642e+00,\n",
       "       -1.62312529e+01,  3.85906801e+00, -9.98516565e-03, -1.50026956e+00,\n",
       "        2.42143466e-01, -1.10716124e-02, -1.01775264e+00,  6.81446545e-03,\n",
       "       -4.86738066e-01])"
      ]
     },
     "execution_count": 61,
     "metadata": {},
     "output_type": "execute_result"
    }
   ],
   "source": [
    "m = mlr.coef_\n",
    "m"
   ]
  },
  {
   "cell_type": "code",
   "execution_count": 62,
   "id": "26ed3d53",
   "metadata": {},
   "outputs": [
    {
     "data": {
      "text/plain": [
       "37.937107741833316"
      ]
     },
     "execution_count": 62,
     "metadata": {},
     "output_type": "execute_result"
    }
   ],
   "source": [
    "c = mlr.intercept_\n",
    "c"
   ]
  },
  {
   "cell_type": "code",
   "execution_count": 63,
   "id": "e07b5efd",
   "metadata": {},
   "outputs": [],
   "source": [
    "y_pred_train = mlr.predict(X_train)"
   ]
  },
  {
   "cell_type": "code",
   "execution_count": 64,
   "id": "81627eee",
   "metadata": {},
   "outputs": [
    {
     "data": {
      "text/plain": [
       "0.7645451026942549"
      ]
     },
     "execution_count": 64,
     "metadata": {},
     "output_type": "execute_result"
    }
   ],
   "source": [
    "r2_score(y_train, y_pred_train)"
   ]
  },
  {
   "cell_type": "code",
   "execution_count": 65,
   "id": "f3dc5046",
   "metadata": {},
   "outputs": [
    {
     "data": {
      "image/png": "[encoded data removed]",
      "text/plain": [
       "<Figure size 640x480 with 1 Axes>"
      ]
     },
     "metadata": {},
     "output_type": "display_data"
    }
   ],
   "source": [
    "plt.scatter(y_train, y_pred_train, color = 'blue')\n",
    "plt.xlabel('Actual')\n",
    "plt.ylabel('Predicted')\n",
    "plt.title('Actual VS Predicted')\n",
    "x = np.linspace(0, np.max(y_train))\n",
    "plt.plot(x, x, color='red', linewidth = 3)\n",
    "plt.show()"
   ]
  },
  {
   "cell_type": "code",
   "execution_count": 66,
   "id": "74090c7d",
   "metadata": {},
   "outputs": [],
   "source": [
    "y_pred_test = mlr.predict(X_test)"
   ]
  },
  {
   "cell_type": "code",
   "execution_count": 67,
   "id": "8f24f42d",
   "metadata": {},
   "outputs": [
    {
     "data": {
      "image/png": "[encoded data removed]",
      "text/plain": [
       "<Figure size 640x480 with 1 Axes>"
      ]
     },
     "metadata": {},
     "output_type": "display_data"
    }
   ],
   "source": [
    "plt.scatter(y_test, y_pred_test, color = 'blue')\n",
    "plt.xlabel('Actual')\n",
    "plt.ylabel('Predicted')\n",
    "plt.title('Actual VS Predicted')\n",
    "x = np.linspace(0, np.max(y_test))\n",
    "plt.plot(x, x, color='red', linewidth = 3)\n",
    "plt.show()"
   ]
  },
  {
   "cell_type": "code",
   "execution_count": 68,
   "id": "4a069b26",
   "metadata": {},
   "outputs": [
    {
     "data": {
      "text/plain": [
       "0.6733825506400175"
      ]
     },
     "execution_count": 68,
     "metadata": {},
     "output_type": "execute_result"
    }
   ],
   "source": [
    "r2_score(y_test, y_pred_test)"
   ]
  },
  {
   "cell_type": "code",
   "execution_count": 69,
   "id": "efedd4e8",
   "metadata": {},
   "outputs": [
    {
     "data": {
      "text/plain": [
       "3.6099040603818233"
      ]
     },
     "execution_count": 69,
     "metadata": {},
     "output_type": "execute_result"
    }
   ],
   "source": [
    "mae = mean_absolute_error(y_test, y_pred_test)\n",
    "mae"
   ]
  },
  {
   "cell_type": "code",
   "execution_count": 70,
   "id": "ae3bbaa5",
   "metadata": {},
   "outputs": [
    {
     "data": {
      "text/plain": [
       "27.19596576688338"
      ]
     },
     "execution_count": 70,
     "metadata": {},
     "output_type": "execute_result"
    }
   ],
   "source": [
    "mse = mean_squared_error(y_test, y_pred_test)\n",
    "mse"
   ]
  },
  {
   "cell_type": "code",
   "execution_count": 71,
   "id": "42466f2c",
   "metadata": {},
   "outputs": [
    {
     "data": {
      "text/plain": [
       "8788.350994133663"
      ]
     },
     "execution_count": 71,
     "metadata": {},
     "output_type": "execute_result"
    }
   ],
   "source": [
    "ssr = np.sum((y_pred_test - y_test.mean())**2)\n",
    "ssr"
   ]
  },
  {
   "cell_type": "code",
   "execution_count": 72,
   "id": "3b894652",
   "metadata": {},
   "outputs": [
    {
     "data": {
      "text/html": [
       "<div>\n",
       "<style scoped>\n",
       "    .dataframe tbody tr th:only-of-type {\n",
       "        vertical-align: middle;\n",
       "    }\n",
       "\n",
       "    .dataframe tbody tr th {\n",
       "        vertical-align: top;\n",
       "    }\n",
       "\n",
       "    .dataframe thead th {\n",
       "        text-align: right;\n",
       "    }\n",
       "</style>\n",
       "<table border=\"1\" class=\"dataframe\">\n",
       "  <thead>\n",
       "    <tr style=\"text-align: right;\">\n",
       "      <th></th>\n",
       "      <th>Actual Value</th>\n",
       "      <th>Predicted Value</th>\n",
       "      <th>difference</th>\n",
       "    </tr>\n",
       "  </thead>\n",
       "  <tbody>\n",
       "    <tr>\n",
       "      <th>0</th>\n",
       "      <td>7.527839</td>\n",
       "      <td>7.577412</td>\n",
       "      <td>-0.049573</td>\n",
       "    </tr>\n",
       "    <tr>\n",
       "      <th>1</th>\n",
       "      <td>10.000000</td>\n",
       "      <td>10.008278</td>\n",
       "      <td>-0.008278</td>\n",
       "    </tr>\n",
       "    <tr>\n",
       "      <th>2</th>\n",
       "      <td>7.197859</td>\n",
       "      <td>7.276191</td>\n",
       "      <td>-0.078332</td>\n",
       "    </tr>\n",
       "    <tr>\n",
       "      <th>3</th>\n",
       "      <td>5.388891</td>\n",
       "      <td>5.273387</td>\n",
       "      <td>0.115504</td>\n",
       "    </tr>\n",
       "    <tr>\n",
       "      <th>4</th>\n",
       "      <td>6.661166</td>\n",
       "      <td>6.598281</td>\n",
       "      <td>0.062884</td>\n",
       "    </tr>\n",
       "    <tr>\n",
       "      <th>5</th>\n",
       "      <td>2.973335</td>\n",
       "      <td>2.885102</td>\n",
       "      <td>0.088233</td>\n",
       "    </tr>\n",
       "    <tr>\n",
       "      <th>6</th>\n",
       "      <td>7.348901</td>\n",
       "      <td>7.419858</td>\n",
       "      <td>-0.070957</td>\n",
       "    </tr>\n",
       "    <tr>\n",
       "      <th>7</th>\n",
       "      <td>5.153617</td>\n",
       "      <td>5.060656</td>\n",
       "      <td>0.092962</td>\n",
       "    </tr>\n",
       "    <tr>\n",
       "      <th>8</th>\n",
       "      <td>5.597138</td>\n",
       "      <td>5.595586</td>\n",
       "      <td>0.001553</td>\n",
       "    </tr>\n",
       "    <tr>\n",
       "      <th>9</th>\n",
       "      <td>7.046376</td>\n",
       "      <td>7.058609</td>\n",
       "      <td>-0.012233</td>\n",
       "    </tr>\n",
       "    <tr>\n",
       "      <th>10</th>\n",
       "      <td>9.481223</td>\n",
       "      <td>9.503607</td>\n",
       "      <td>-0.022383</td>\n",
       "    </tr>\n",
       "    <tr>\n",
       "      <th>11</th>\n",
       "      <td>9.133547</td>\n",
       "      <td>9.024979</td>\n",
       "      <td>0.108568</td>\n",
       "    </tr>\n",
       "    <tr>\n",
       "      <th>12</th>\n",
       "      <td>5.629729</td>\n",
       "      <td>5.499368</td>\n",
       "      <td>0.130362</td>\n",
       "    </tr>\n",
       "  </tbody>\n",
       "</table>\n",
       "</div>"
      ],
      "text/plain": [
       "    Actual Value  Predicted Value  difference\n",
       "0       7.527839         7.577412   -0.049573\n",
       "1      10.000000        10.008278   -0.008278\n",
       "2       7.197859         7.276191   -0.078332\n",
       "3       5.388891         5.273387    0.115504\n",
       "4       6.661166         6.598281    0.062884\n",
       "5       2.973335         2.885102    0.088233\n",
       "6       7.348901         7.419858   -0.070957\n",
       "7       5.153617         5.060656    0.092962\n",
       "8       5.597138         5.595586    0.001553\n",
       "9       7.046376         7.058609   -0.012233\n",
       "10      9.481223         9.503607   -0.022383\n",
       "11      9.133547         9.024979    0.108568\n",
       "12      5.629729         5.499368    0.130362"
      ]
     },
     "execution_count": 72,
     "metadata": {},
     "output_type": "execute_result"
    }
   ],
   "source": [
    "pred_df = pd.DataFrame({\n",
    "    'Actual Value': Y_test.ravel(),\n",
    "    'Predicted Value': Y_pred_test.ravel(),\n",
    "    'difference': (Y_test - Y_pred_test).ravel()\n",
    "})\n",
    "pred_df"
   ]
  },
  {
   "cell_type": "code",
   "execution_count": 73,
   "id": "8a73b473",
   "metadata": {},
   "outputs": [
    {
     "data": {
      "text/plain": [
       "array([[7.31285602],\n",
       "       [2.77336698],\n",
       "       [3.42186542],\n",
       "       [4.39461307],\n",
       "       [6.50223298],\n",
       "       [2.28699316],\n",
       "       [3.58399002],\n",
       "       [7.79922985],\n",
       "       [2.44911776],\n",
       "       [9.74472515],\n",
       "       [2.44911776],\n",
       "       [5.69160994],\n",
       "       [6.34010837]])"
      ]
     },
     "execution_count": 73,
     "metadata": {},
     "output_type": "execute_result"
    }
   ],
   "source": [
    "new_data = np.random.randint(0,50,13)\n",
    "new_data =  np.array(new_data).reshape(-1,1)\n",
    "slr.predict(new_data)"
   ]
  }
 ],
 "metadata": {
  "kernelspec": {
   "display_name": "Python 3 (ipykernel)",
   "language": "python",
   "name": "python3"
  },
  "language_info": {
   "codemirror_mode": {
    "name": "ipython",
    "version": 3
   },
   "file_extension": ".py",
   "mimetype": "text/x-python",
   "name": "python",
   "nbconvert_exporter": "python",
   "pygments_lexer": "ipython3",
   "version": "3.9.13"
  }
 },
 "nbformat": 4,
 "nbformat_minor": 5
}
