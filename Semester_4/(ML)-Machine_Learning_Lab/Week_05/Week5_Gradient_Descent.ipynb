{
 "cells": [
  {
   "cell_type": "code",
   "execution_count": 15,
   "id": "2363027f",
   "metadata": {},
   "outputs": [],
   "source": [
    "import numpy as np\n",
    "import matplotlib.pyplot as plt"
   ]
  },
  {
   "cell_type": "code",
   "execution_count": 16,
   "id": "4e501f35",
   "metadata": {},
   "outputs": [],
   "source": [
    "def gradient_descent(X, Y, m_current=0, b_current=0, learning_rate=0.01, num_iterations=1000):\n",
    "    N = float(len(Y))\n",
    "    errors = []\n",
    "\n",
    "    for i in range(num_iterations):\n",
    "        Y_pred = m_current*X + b_current\n",
    "        error = Y_pred - Y\n",
    "        cost = np.sum(error**2) / N\n",
    "\n",
    "        m_gradient = (2/N) * np.sum(X * error)\n",
    "        b_gradient = (2/N) * np.sum(error)\n",
    "\n",
    "        m_current -= learning_rate * m_gradient\n",
    "        b_current -= learning_rate * b_gradient\n",
    "\n",
    "        errors.append(cost)\n",
    "        print(f\"Iteration: {i}, m: {m_current:.2f}, b: {b_current:.2f}, error: {cost:.2f}\")\n",
    "        \n",
    "    return m_current, b_current, errors"
   ]
  },
  {
   "cell_type": "code",
   "execution_count": null,
   "id": "168554a6",
   "metadata": {},
   "outputs": [],
   "source": [
    "# Generate random data\n",
    "np.random.seed(0)\n",
    "X = np.random.rand(50)\n",
    "Y = 2*X + 1 + np.random.randn(50)*0.1\n",
    "\n",
    "# Run gradient descent\n",
    "m, b, errors = gradient_descent(X, Y)\n",
    "\n",
    "# Plot the data and the line of best fit\n",
    "plt.scatter(X, Y)\n",
    "plt.plot(X, m*X + b, 'r')plt.show()\n",
    "\n",
    "# Plot the error vs. iteration\n",
    "plt.plot(range(len(errors)), errors)\n",
    "plt.xlabel('Iteration')\n",
    "plt.ylabel('Error')plt.show()"
   ]
  }
 ],
 "metadata": {
  "kernelspec": {
   "display_name": "Python 3 (ipykernel)",
   "language": "python",
   "name": "python3"
  },
  "language_info": {
   "codemirror_mode": {
    "name": "ipython",
    "version": 3
   },
   "file_extension": ".py",
   "mimetype": "text/x-python",
   "name": "python",
   "nbconvert_exporter": "python",
   "pygments_lexer": "ipython3",
   "version": "3.9.12"
  }
 },
 "nbformat": 4,
 "nbformat_minor": 5
}
