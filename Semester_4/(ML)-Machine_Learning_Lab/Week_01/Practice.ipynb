{
 "cells": [
  {
   "cell_type": "code",
   "execution_count": null,
   "id": "bc3b9628",
   "metadata": {},
   "outputs": [],
   "source": [
    "print(\"Hello World!\")"
   ]
  },
  {
   "cell_type": "code",
   "execution_count": 1,
   "id": "3ee2f1cb",
   "metadata": {},
   "outputs": [
    {
     "name": "stdout",
     "output_type": "stream",
     "text": [
      "Enter first number: 5\n"
     ]
    }
   ],
   "source": [
    "x=input(\"Enter first number: \")"
   ]
  },
  {
   "cell_type": "code",
   "execution_count": 2,
   "id": "eaed8608",
   "metadata": {},
   "outputs": [
    {
     "name": "stdout",
     "output_type": "stream",
     "text": [
      "Enter second number: 6\n"
     ]
    }
   ],
   "source": [
    "y=input(\"Enter second number: \")"
   ]
  },
  {
   "cell_type": "code",
   "execution_count": 3,
   "id": "d722abdf",
   "metadata": {},
   "outputs": [
    {
     "data": {
      "text/plain": [
       "'56'"
      ]
     },
     "execution_count": 3,
     "metadata": {},
     "output_type": "execute_result"
    }
   ],
   "source": [
    "x+y"
   ]
  },
  {
   "cell_type": "code",
   "execution_count": 5,
   "id": "6f5d4c45",
   "metadata": {},
   "outputs": [
    {
     "name": "stdout",
     "output_type": "stream",
     "text": [
      "6 is larger than 5\n"
     ]
    }
   ],
   "source": [
    "if(x>y):\n",
    "    print(x + \" is larger than \" + y)\n",
    "else:\n",
    "    print(y + \" is larger than \" + x)"
   ]
  },
  {
   "cell_type": "code",
   "execution_count": 6,
   "id": "e27de6ad",
   "metadata": {},
   "outputs": [
    {
     "data": {
      "text/plain": [
       "0"
      ]
     },
     "execution_count": 6,
     "metadata": {},
     "output_type": "execute_result"
    }
   ],
   "source": [
    "s1 = ''\n",
    "len(s1)"
   ]
  },
  {
   "cell_type": "code",
   "execution_count": 14,
   "id": "057500d8",
   "metadata": {},
   "outputs": [
    {
     "data": {
      "text/plain": [
       "True"
      ]
     },
     "execution_count": 14,
     "metadata": {},
     "output_type": "execute_result"
    }
   ],
   "source": [
    "s2 = \"i am not spam\"\n",
    "\n",
    "'spam' in s2"
   ]
  },
  {
   "cell_type": "code",
   "execution_count": 17,
   "id": "0b3172cc",
   "metadata": {},
   "outputs": [
    {
     "name": "stdout",
     "output_type": "stream",
     "text": [
      "Enter first number: 5\n"
     ]
    },
    {
     "data": {
      "text/plain": [
       "15"
      ]
     },
     "execution_count": 17,
     "metadata": {},
     "output_type": "execute_result"
    }
   ],
   "source": [
    "int(input('Enter first number: ')) + 10"
   ]
  },
  {
   "cell_type": "code",
   "execution_count": 25,
   "id": "510de2dd",
   "metadata": {},
   "outputs": [
    {
     "name": "stdout",
     "output_type": "stream",
     "text": [
      "ghi\n"
     ]
    }
   ],
   "source": [
    "L1 = []\n",
    "L2 = [0,1,2,3]\n",
    "L3 = ['abc', ['def','ghi']]\n",
    "\n",
    "print(L3[1][1])"
   ]
  },
  {
   "cell_type": "code",
   "execution_count": 28,
   "id": "88ae358b",
   "metadata": {},
   "outputs": [
    {
     "name": "stdout",
     "output_type": "stream",
     "text": [
      "0\n",
      "1\n",
      "2\n",
      "3\n"
     ]
    }
   ],
   "source": [
    "for x in L2:\n",
    "    print(L2[x])"
   ]
  },
  {
   "cell_type": "code",
   "execution_count": 32,
   "id": "c9aacb36",
   "metadata": {},
   "outputs": [
    {
     "name": "stdout",
     "output_type": "stream",
     "text": [
      "0\n",
      "5\n",
      "10\n",
      "15\n",
      "20\n"
     ]
    }
   ],
   "source": [
    "L4 = [0, 1, 2, 3, 4]\n",
    "L5 = [2, 4, 6, 8, 10]\n",
    "\n",
    "for x in L4:\n",
    "    print(L4[x]*5)"
   ]
  },
  {
   "cell_type": "code",
   "execution_count": 35,
   "id": "2238e88f",
   "metadata": {},
   "outputs": [
    {
     "name": "stdout",
     "output_type": "stream",
     "text": [
      "[2, 4, 6, 8, 10, 4]\n"
     ]
    }
   ],
   "source": [
    "L5.append(4)\n",
    "print(L5)"
   ]
  },
  {
   "cell_type": "code",
   "execution_count": 36,
   "id": "15b81a08",
   "metadata": {},
   "outputs": [
    {
     "name": "stdout",
     "output_type": "stream",
     "text": [
      "[4, 6, 8, 10, 4]\n"
     ]
    }
   ],
   "source": [
    "L5.remove(2)\n",
    "print(L5)"
   ]
  },
  {
   "cell_type": "code",
   "execution_count": 37,
   "id": "ae470f27",
   "metadata": {},
   "outputs": [],
   "source": [
    "import random"
   ]
  },
  {
   "cell_type": "code",
   "execution_count": 44,
   "id": "44061278",
   "metadata": {},
   "outputs": [
    {
     "name": "stdout",
     "output_type": "stream",
     "text": [
      "65\n"
     ]
    }
   ],
   "source": [
    "x = random.randint(10,70)\n",
    "print(x)"
   ]
  },
  {
   "cell_type": "code",
   "execution_count": 48,
   "id": "a0f39355",
   "metadata": {},
   "outputs": [
    {
     "name": "stdout",
     "output_type": "stream",
     "text": [
      "10\n",
      "11\n",
      "12\n",
      "13\n",
      "14\n",
      "15\n",
      "16\n",
      "17\n",
      "18\n",
      "19\n"
     ]
    }
   ],
   "source": [
    "for i in range(10,20):\n",
    "    print(i)"
   ]
  },
  {
   "cell_type": "code",
   "execution_count": 50,
   "id": "a4752294",
   "metadata": {},
   "outputs": [
    {
     "name": "stdout",
     "output_type": "stream",
     "text": [
      "[18, 12, 26, 25, 24]\n"
     ]
    }
   ],
   "source": [
    "#Generate 5 random bw 10 and 30\n",
    "\n",
    "randomlist = random.sample(range(10,30), 5)\n",
    "print(randomlist)"
   ]
  },
  {
   "cell_type": "code",
   "execution_count": null,
   "id": "a47f2413",
   "metadata": {},
   "outputs": [],
   "source": []
  },
  {
   "cell_type": "code",
   "execution_count": 54,
   "id": "3875ff40",
   "metadata": {},
   "outputs": [
    {
     "name": "stdout",
     "output_type": "stream",
     "text": [
      "Enter first number: 10\n",
      "314.1592653589793\n"
     ]
    }
   ],
   "source": [
    "import math\n",
    "\n",
    "radius = int(input(\"Enter first number: \"))\n",
    "\n",
    "def area(radius):\n",
    "    temp = math.pi * radius**2\n",
    "    return temp\n",
    "\n",
    "a = area(radius)\n",
    "print(a)"
   ]
  },
  {
   "cell_type": "code",
   "execution_count": 55,
   "id": "5a680ee9",
   "metadata": {},
   "outputs": [
    {
     "name": "stdout",
     "output_type": "stream",
     "text": [
      "Enter first number: 10\n",
      "Enter second number: 5\n",
      "15\n"
     ]
    }
   ],
   "source": [
    "num1 = int(input(\"Enter first number: \"))\n",
    "num2 = int(input(\"Enter second number: \"))\n",
    "\n",
    "def add(num1, num2):\n",
    "    return(num1 + num2)\n",
    "\n",
    "sum = add(num1, num2)\n",
    "print(sum)"
   ]
  },
  {
   "cell_type": "code",
   "execution_count": 56,
   "id": "b80e77c6",
   "metadata": {},
   "outputs": [
    {
     "name": "stdout",
     "output_type": "stream",
     "text": [
      "Enter first number: 15\n",
      "Enter second number: 20\n",
      "35\n"
     ]
    }
   ],
   "source": [
    "r1 = input(\"Enter first number: \")\n",
    "r2 = input(\"Enter second number: \")\n",
    "\n",
    "def add(r1, r2):\n",
    "    \n",
    "    if(type(r1) == str):\n",
    "        r1 = int(r1)\n",
    "    \n",
    "    if(type(r2) == str):\n",
    "        r2 = int(r2)\n",
    "    return (r1+r2)\n",
    "\n",
    "s = add(r1, r2)\n",
    "print(s)"
   ]
  },
  {
   "cell_type": "code",
   "execution_count": null,
   "id": "35d2fd09",
   "metadata": {},
   "outputs": [],
   "source": [
    "# Creating a matrix and creating its inverse\n",
    "\n",
    "R = int(input(\"Enter the number of rows:\"))\n",
    "C = int(input(\"Enter the number of columns:\"))\n",
    "\n",
    "Matrix = []\n"
   ]
  }
 ],
 "metadata": {
  "kernelspec": {
   "display_name": "Python 3 (ipykernel)",
   "language": "python",
   "name": "python3"
  },
  "language_info": {
   "codemirror_mode": {
    "name": "ipython",
    "version": 3
   },
   "file_extension": ".py",
   "mimetype": "text/x-python",
   "name": "python",
   "nbconvert_exporter": "python",
   "pygments_lexer": "ipython3",
   "version": "3.9.13"
  }
 },
 "nbformat": 4,
 "nbformat_minor": 5
}
