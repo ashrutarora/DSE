{
 "cells": [
  {
   "cell_type": "code",
   "execution_count": 2,
   "id": "0d2d2e67",
   "metadata": {},
   "outputs": [],
   "source": [
    "# Write a program that reads a positive integer, n, from the user and then displays the sum of all of the integers from 1 to n.\n",
    "# The sum of the first n positive integers can be computed using the formula: sum = n*(n+1)/2."
   ]
  },
  {
   "cell_type": "code",
   "execution_count": 8,
   "id": "617ef52c",
   "metadata": {},
   "outputs": [
    {
     "name": "stdout",
     "output_type": "stream",
     "text": [
      "Enter a number: 5\n",
      "15.0\n"
     ]
    }
   ],
   "source": [
    "x = int(input(\"Enter a number: \"))\n",
    "y = x*(x+1)/2\n",
    "print(y)"
   ]
  },
  {
   "cell_type": "code",
   "execution_count": null,
   "id": "eebdc022",
   "metadata": {},
   "outputs": [],
   "source": [
    "# Write a program that reads a number of feet from the user, followed by a number of inches. Once these values are read,\n",
    "# your program should compute and display the equivalent number of centimeters.\n",
    "\n",
    "    # Hint :  1 FOOT = 12 INCHES. 1 INCH = 2.54 CM"
   ]
  },
  {
   "cell_type": "code",
   "execution_count": 9,
   "id": "96e3fb65",
   "metadata": {},
   "outputs": [
    {
     "name": "stdout",
     "output_type": "stream",
     "text": [
      "Enter feet: 2\n",
      "Enter inches: 4\n",
      "71.12\n"
     ]
    }
   ],
   "source": [
    "feet = int(input(\"Enter feet: \"))\n",
    "inches = int(input(\"Enter inches: \"))\n",
    "\n",
    "centi = (feet*12 + inches)*2.54\n",
    "print(centi)"
   ]
  },
  {
   "cell_type": "code",
   "execution_count": null,
   "id": "1ab3b80a",
   "metadata": {},
   "outputs": [],
   "source": [
    "# An online retailer sells two products: widgets and gizmos. Each WIDGET weighs 75g. Each GIZMO weights 112g.\n",
    "# Write a program that reads the number of widgets and the number of gizmos in an order from the user.\n",
    "# Then your program should compute and display the total weight of the order."
   ]
  },
  {
   "cell_type": "code",
   "execution_count": 1,
   "id": "5e3dba04",
   "metadata": {},
   "outputs": [
    {
     "name": "stdout",
     "output_type": "stream",
     "text": [
      "Enter how many Widgets bought: 2\n",
      "Enter how many Gizmos bought: 4\n",
      "598\n"
     ]
    }
   ],
   "source": [
    "Wid = int(input(\"Enter how many Widgets bought: \"))\n",
    "Giz = int(input(\"Enter how many Gizmos bought: \"))\n",
    "\n",
    "Total = (Wid*75 + Giz*112)\n",
    "print(Total)"
   ]
  },
  {
   "cell_type": "code",
   "execution_count": null,
   "id": "157fa01e",
   "metadata": {},
   "outputs": [],
   "source": [
    "# It is commonly said that one human year is equivalent to 7 dog years. However this simple conversion fails to recognize that\n",
    "# dogs reach adulthood in approximately two years. As a result, some people believe that it is better to count each of the first\n",
    "# two human years as 10.5 dog years, and then count each additional human years as 4 dog years.\n",
    "\n",
    "# Write a program that implements the conversion from human years to dog years described in the prev para. Ensure that your prog\n",
    "# works correctly for the conversions of less than two human years and for the conv of two or more human years. Ur program shud\n",
    "# display an appropriate error message if the user enters a negative number."
   ]
  },
  {
   "cell_type": "code",
   "execution_count": null,
   "id": "901bd99f",
   "metadata": {},
   "outputs": [],
   "source": [
    "hyr = int(input(\"Enter years: \"))\n",
    "\n",
    "if(hyr < 0):\n",
    "    print(\"Negative Number Entered\")\n",
    "    \n",
    "elif(hyr <= 2):\n",
    "    dyr = (10.5*hyr)\n",
    "\n",
    "else:\n",
    "    dyr = "
   ]
  },
  {
   "cell_type": "code",
   "execution_count": null,
   "id": "64a5807d",
   "metadata": {},
   "outputs": [],
   "source": [
    "# The length of the month varies from 28 to 31 days. In this exercise you will create a program that reads the name of the month\n",
    "# from ther use as a string. Then your program should display the number of days in that month. Display \"28 or 29 days\" for Feb\n",
    "# so that leap years are "
   ]
  },
  {
   "cell_type": "code",
   "execution_count": null,
   "id": "3424100b",
   "metadata": {},
   "outputs": [],
   "source": []
  },
  {
   "cell_type": "code",
   "execution_count": null,
   "id": "ae70ac4e",
   "metadata": {},
   "outputs": [],
   "source": [
    "# Positions on a chess board are identified by a letter and a number. The letter identifies the colunmn, while the number\n",
    "# identifies the row, as shown below:\n",
    "\n",
    "#INSERT CHESS BOARD DIAGRAM\n",
    "\n",
    "# Write a program that reads a pos from the user. Use an if statement to determine if the column begins with a black square or \n",
    "# a white square. Then use modular arithmetic to report the color of the square in that row. For example if the user enters a1 \n",
    "# then your program should return black"
   ]
  },
  {
   "cell_type": "code",
   "execution_count": null,
   "id": "826bbeb9",
   "metadata": {},
   "outputs": [],
   "source": [
    "# When analysing data collected as a part of a science experiment it may be desirable to remove the most extreme values before\n",
    "# performing other calc. Write a func that takes a list of val and an non-neg integer, n, as its parameters. The func should\n",
    "# create a new "
   ]
  }
 ],
 "metadata": {
  "kernelspec": {
   "display_name": "Python 3 (ipykernel)",
   "language": "python",
   "name": "python3"
  },
  "language_info": {
   "codemirror_mode": {
    "name": "ipython",
    "version": 3
   },
   "file_extension": ".py",
   "mimetype": "text/x-python",
   "name": "python",
   "nbconvert_exporter": "python",
   "pygments_lexer": "ipython3",
   "version": "3.9.13"
  }
 },
 "nbformat": 4,
 "nbformat_minor": 5
}
