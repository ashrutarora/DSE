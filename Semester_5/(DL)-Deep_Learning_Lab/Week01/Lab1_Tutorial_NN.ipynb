{
 "cells": [
  {
   "cell_type": "markdown",
   "metadata": {
    "id": "aAlYs1itr5Ku"
   },
   "source": [
    "1) Import the necessray libraries"
   ]
  },
  {
   "cell_type": "code",
   "execution_count": null,
   "metadata": {
    "id": "lrGIhhPUK-lb"
   },
   "outputs": [],
   "source": [
    "import numpy as np\n",
    "import tensorflow as tf\n",
    "from tensorflow.keras.models import Sequential\n",
    "from tensorflow.keras.layers import Dense, Input"
   ]
  },
  {
   "cell_type": "markdown",
   "metadata": {
    "id": "UVB4MupKsB7w"
   },
   "source": [
    "2) For the tutorial, lets experiment with random data\n",
    "\n"
   ]
  },
  {
   "cell_type": "code",
   "execution_count": null,
   "metadata": {
    "id": "HgMaNEHYxj6U"
   },
   "outputs": [],
   "source": [
    "# Generate random input data (features)\n",
    "num_samples = 1000\n",
    "num_features = 10\n",
    "num_classes = 2\n",
    "X = np.random.rand(num_samples, num_features)"
   ]
  },
  {
   "cell_type": "code",
   "execution_count": null,
   "metadata": {
    "id": "zs1G3MsQffoQ"
   },
   "outputs": [],
   "source": [
    "# Generate random output labels (classes)\n",
    "y = np.random.randint(0, num_classes, size=num_samples)"
   ]
  },
  {
   "cell_type": "code",
   "execution_count": null,
   "metadata": {
    "id": "WZ8iserHfnVH"
   },
   "outputs": [],
   "source": [
    "# Split the data into training and testing sets\n",
    "split_ratio = 0.8\n",
    "split_index = int(num_samples * split_ratio)\n",
    "\n",
    "X_train, X_test = X[:split_index], X[split_index:]\n",
    "y_train, y_test = y[:split_index], y[split_index:]"
   ]
  },
  {
   "cell_type": "markdown",
   "metadata": {
    "id": "UTFXKmsNxoKc"
   },
   "source": [
    "3) Define the model"
   ]
  },
  {
   "cell_type": "code",
   "execution_count": null,
   "metadata": {
    "id": "rkEFvzYOf2Wf"
   },
   "outputs": [],
   "source": [
    "# Build the neural network model using Sequential API\n",
    "model = Sequential([\n",
    "    Input(shape=(num_features,),name='s'),\n",
    "    Dense(6, activation='relu',name='d1'),  # Hidden layer with 6 neurons\n",
    "    Dense(num_classes, activation='softmax')  # Output layer with num_classes neurons and softmax activation for classification\n",
    "])"
   ]
  },
  {
   "cell_type": "code",
   "execution_count": null,
   "metadata": {
    "colab": {
     "base_uri": "https://localhost:8080/"
    },
    "id": "H9-kSf5Pg6mB",
    "outputId": "19ea65c3-b84a-49ef-b7e2-c6512b855252"
   },
   "outputs": [
    {
     "name": "stdout",
     "output_type": "stream",
     "text": [
      "Model: \"sequential_1\"\n",
      "_________________________________________________________________\n",
      " Layer (type)                Output Shape              Param #   \n",
      "=================================================================\n",
      " d1 (Dense)                  (None, 6)                 66        \n",
      "                                                                 \n",
      " dense_2 (Dense)             (None, 2)                 14        \n",
      "                                                                 \n",
      "=================================================================\n",
      "Total params: 80\n",
      "Trainable params: 80\n",
      "Non-trainable params: 0\n",
      "_________________________________________________________________\n"
     ]
    }
   ],
   "source": [
    "# Display a summary of the model architecture\n",
    "model.summary()"
   ]
  },
  {
   "cell_type": "markdown",
   "metadata": {
    "id": "7KcD-2o-x2xV"
   },
   "source": [
    "4) Compile the model"
   ]
  },
  {
   "cell_type": "code",
   "execution_count": null,
   "metadata": {
    "id": "_b25F_mgf8Z0"
   },
   "outputs": [],
   "source": [
    "# Compile the model\n",
    "model.compile(optimizer='adam', loss='sparse_categorical_crossentropy', metrics=['accuracy'])"
   ]
  },
  {
   "cell_type": "markdown",
   "metadata": {
    "id": "ZpJXA2PZyCUE"
   },
   "source": [
    "5) Fit/train the model"
   ]
  },
  {
   "cell_type": "code",
   "execution_count": null,
   "metadata": {
    "colab": {
     "base_uri": "https://localhost:8080/"
    },
    "id": "i0OTpH1Sg-_R",
    "outputId": "5f8d1415-cee0-4431-9da0-770e85832726"
   },
   "outputs": [
    {
     "name": "stdout",
     "output_type": "stream",
     "text": [
      "Epoch 1/50\n",
      "23/23 [==============================] - 2s 21ms/step - loss: 0.7289 - accuracy: 0.4931 - val_loss: 0.6941 - val_accuracy: 0.5750\n",
      "Epoch 2/50\n",
      "23/23 [==============================] - 0s 5ms/step - loss: 0.7176 - accuracy: 0.5153 - val_loss: 0.6947 - val_accuracy: 0.5500\n",
      "Epoch 3/50\n",
      "23/23 [==============================] - 0s 5ms/step - loss: 0.7129 - accuracy: 0.5167 - val_loss: 0.6945 - val_accuracy: 0.5375\n",
      "Epoch 4/50\n",
      "23/23 [==============================] - 0s 6ms/step - loss: 0.7089 - accuracy: 0.5139 - val_loss: 0.6932 - val_accuracy: 0.5250\n",
      "Epoch 5/50\n",
      "23/23 [==============================] - 0s 7ms/step - loss: 0.7053 - accuracy: 0.5208 - val_loss: 0.6927 - val_accuracy: 0.5125\n",
      "Epoch 6/50\n",
      "23/23 [==============================] - 0s 5ms/step - loss: 0.7022 - accuracy: 0.5153 - val_loss: 0.6921 - val_accuracy: 0.5500\n",
      "Epoch 7/50\n",
      "23/23 [==============================] - 0s 4ms/step - loss: 0.6996 - accuracy: 0.5181 - val_loss: 0.6926 - val_accuracy: 0.5375\n",
      "Epoch 8/50\n",
      "23/23 [==============================] - 0s 4ms/step - loss: 0.6984 - accuracy: 0.5208 - val_loss: 0.6933 - val_accuracy: 0.5375\n",
      "Epoch 9/50\n",
      "23/23 [==============================] - 0s 3ms/step - loss: 0.6961 - accuracy: 0.5208 - val_loss: 0.6929 - val_accuracy: 0.5875\n",
      "Epoch 10/50\n",
      "23/23 [==============================] - 0s 4ms/step - loss: 0.6952 - accuracy: 0.5167 - val_loss: 0.6930 - val_accuracy: 0.5875\n",
      "Epoch 11/50\n",
      "23/23 [==============================] - 0s 4ms/step - loss: 0.6942 - accuracy: 0.5194 - val_loss: 0.6934 - val_accuracy: 0.5750\n",
      "Epoch 12/50\n",
      "23/23 [==============================] - 0s 4ms/step - loss: 0.6937 - accuracy: 0.5333 - val_loss: 0.6939 - val_accuracy: 0.5500\n",
      "Epoch 13/50\n",
      "23/23 [==============================] - 0s 3ms/step - loss: 0.6930 - accuracy: 0.5333 - val_loss: 0.6935 - val_accuracy: 0.5875\n",
      "Epoch 14/50\n",
      "23/23 [==============================] - 0s 3ms/step - loss: 0.6925 - accuracy: 0.5292 - val_loss: 0.6931 - val_accuracy: 0.5500\n",
      "Epoch 15/50\n",
      "23/23 [==============================] - 0s 5ms/step - loss: 0.6923 - accuracy: 0.5236 - val_loss: 0.6929 - val_accuracy: 0.5625\n",
      "Epoch 16/50\n",
      "23/23 [==============================] - 0s 4ms/step - loss: 0.6920 - accuracy: 0.5319 - val_loss: 0.6925 - val_accuracy: 0.5500\n",
      "Epoch 17/50\n",
      "23/23 [==============================] - 0s 4ms/step - loss: 0.6917 - accuracy: 0.5333 - val_loss: 0.6922 - val_accuracy: 0.5250\n",
      "Epoch 18/50\n",
      "23/23 [==============================] - 0s 4ms/step - loss: 0.6914 - accuracy: 0.5250 - val_loss: 0.6914 - val_accuracy: 0.5750\n",
      "Epoch 19/50\n",
      "23/23 [==============================] - 0s 4ms/step - loss: 0.6917 - accuracy: 0.5222 - val_loss: 0.6912 - val_accuracy: 0.5750\n",
      "Epoch 20/50\n",
      "23/23 [==============================] - 0s 3ms/step - loss: 0.6912 - accuracy: 0.5222 - val_loss: 0.6912 - val_accuracy: 0.5250\n",
      "Epoch 21/50\n",
      "23/23 [==============================] - 0s 4ms/step - loss: 0.6908 - accuracy: 0.5347 - val_loss: 0.6909 - val_accuracy: 0.6000\n",
      "Epoch 22/50\n",
      "23/23 [==============================] - 0s 3ms/step - loss: 0.6905 - accuracy: 0.5333 - val_loss: 0.6909 - val_accuracy: 0.5875\n",
      "Epoch 23/50\n",
      "23/23 [==============================] - 0s 4ms/step - loss: 0.6905 - accuracy: 0.5278 - val_loss: 0.6907 - val_accuracy: 0.6000\n",
      "Epoch 24/50\n",
      "23/23 [==============================] - 0s 4ms/step - loss: 0.6903 - accuracy: 0.5403 - val_loss: 0.6907 - val_accuracy: 0.6000\n",
      "Epoch 25/50\n",
      "23/23 [==============================] - 0s 3ms/step - loss: 0.6905 - accuracy: 0.5486 - val_loss: 0.6912 - val_accuracy: 0.5375\n",
      "Epoch 26/50\n",
      "23/23 [==============================] - 0s 4ms/step - loss: 0.6900 - accuracy: 0.5389 - val_loss: 0.6908 - val_accuracy: 0.5500\n",
      "Epoch 27/50\n",
      "23/23 [==============================] - 0s 4ms/step - loss: 0.6899 - accuracy: 0.5444 - val_loss: 0.6909 - val_accuracy: 0.5500\n",
      "Epoch 28/50\n",
      "23/23 [==============================] - 0s 3ms/step - loss: 0.6898 - accuracy: 0.5458 - val_loss: 0.6908 - val_accuracy: 0.5875\n",
      "Epoch 29/50\n",
      "23/23 [==============================] - 0s 4ms/step - loss: 0.6897 - accuracy: 0.5431 - val_loss: 0.6907 - val_accuracy: 0.5750\n",
      "Epoch 30/50\n",
      "23/23 [==============================] - 0s 4ms/step - loss: 0.6897 - accuracy: 0.5403 - val_loss: 0.6906 - val_accuracy: 0.5625\n",
      "Epoch 31/50\n",
      "23/23 [==============================] - 0s 3ms/step - loss: 0.6895 - accuracy: 0.5389 - val_loss: 0.6907 - val_accuracy: 0.6000\n",
      "Epoch 32/50\n",
      "23/23 [==============================] - 0s 3ms/step - loss: 0.6897 - accuracy: 0.5431 - val_loss: 0.6907 - val_accuracy: 0.5875\n",
      "Epoch 33/50\n",
      "23/23 [==============================] - 0s 4ms/step - loss: 0.6893 - accuracy: 0.5458 - val_loss: 0.6907 - val_accuracy: 0.6000\n",
      "Epoch 34/50\n",
      "23/23 [==============================] - 0s 5ms/step - loss: 0.6892 - accuracy: 0.5389 - val_loss: 0.6910 - val_accuracy: 0.5625\n",
      "Epoch 35/50\n",
      "23/23 [==============================] - 0s 3ms/step - loss: 0.6894 - accuracy: 0.5319 - val_loss: 0.6908 - val_accuracy: 0.6000\n",
      "Epoch 36/50\n",
      "23/23 [==============================] - 0s 4ms/step - loss: 0.6889 - accuracy: 0.5389 - val_loss: 0.6907 - val_accuracy: 0.5875\n",
      "Epoch 37/50\n",
      "23/23 [==============================] - 0s 4ms/step - loss: 0.6889 - accuracy: 0.5403 - val_loss: 0.6908 - val_accuracy: 0.5875\n",
      "Epoch 38/50\n",
      "23/23 [==============================] - 0s 5ms/step - loss: 0.6888 - accuracy: 0.5444 - val_loss: 0.6912 - val_accuracy: 0.5625\n",
      "Epoch 39/50\n",
      "23/23 [==============================] - 0s 4ms/step - loss: 0.6888 - accuracy: 0.5444 - val_loss: 0.6914 - val_accuracy: 0.5750\n",
      "Epoch 40/50\n",
      "23/23 [==============================] - 0s 4ms/step - loss: 0.6890 - accuracy: 0.5486 - val_loss: 0.6908 - val_accuracy: 0.5875\n",
      "Epoch 41/50\n",
      "23/23 [==============================] - 0s 3ms/step - loss: 0.6885 - accuracy: 0.5403 - val_loss: 0.6911 - val_accuracy: 0.5875\n",
      "Epoch 42/50\n",
      "23/23 [==============================] - 0s 3ms/step - loss: 0.6884 - accuracy: 0.5417 - val_loss: 0.6912 - val_accuracy: 0.5750\n",
      "Epoch 43/50\n",
      "23/23 [==============================] - 0s 3ms/step - loss: 0.6884 - accuracy: 0.5389 - val_loss: 0.6911 - val_accuracy: 0.5875\n",
      "Epoch 44/50\n",
      "23/23 [==============================] - 0s 4ms/step - loss: 0.6883 - accuracy: 0.5417 - val_loss: 0.6915 - val_accuracy: 0.5875\n",
      "Epoch 45/50\n",
      "23/23 [==============================] - 0s 3ms/step - loss: 0.6882 - accuracy: 0.5389 - val_loss: 0.6915 - val_accuracy: 0.6125\n",
      "Epoch 46/50\n",
      "23/23 [==============================] - 0s 4ms/step - loss: 0.6880 - accuracy: 0.5361 - val_loss: 0.6914 - val_accuracy: 0.6125\n",
      "Epoch 47/50\n",
      "23/23 [==============================] - 0s 3ms/step - loss: 0.6879 - accuracy: 0.5375 - val_loss: 0.6918 - val_accuracy: 0.6000\n",
      "Epoch 48/50\n",
      "23/23 [==============================] - 0s 4ms/step - loss: 0.6879 - accuracy: 0.5431 - val_loss: 0.6921 - val_accuracy: 0.6125\n",
      "Epoch 49/50\n",
      "23/23 [==============================] - 0s 3ms/step - loss: 0.6878 - accuracy: 0.5347 - val_loss: 0.6921 - val_accuracy: 0.6125\n",
      "Epoch 50/50\n",
      "23/23 [==============================] - 0s 3ms/step - loss: 0.6878 - accuracy: 0.5403 - val_loss: 0.6922 - val_accuracy: 0.5875\n"
     ]
    },
    {
     "data": {
      "text/plain": [
       "<keras.callbacks.History at 0x7a0aa4e41c30>"
      ]
     },
     "execution_count": 21,
     "metadata": {},
     "output_type": "execute_result"
    }
   ],
   "source": [
    "# Train the model using the training data\n",
    "epochs = 50\n",
    "batch_size = 32\n",
    "model.fit(X_train, y_train, epochs=epochs, batch_size=batch_size, validation_split=0.1)"
   ]
  },
  {
   "cell_type": "markdown",
   "metadata": {
    "id": "WCQbvhrAyFpo"
   },
   "source": [
    "6) Evaluate/test the model"
   ]
  },
  {
   "cell_type": "code",
   "execution_count": null,
   "metadata": {
    "colab": {
     "base_uri": "https://localhost:8080/"
    },
    "id": "BRN9FuPlhENT",
    "outputId": "a5404fb7-f216-474d-c74f-f5c82fbdf332"
   },
   "outputs": [
    {
     "name": "stdout",
     "output_type": "stream",
     "text": [
      "7/7 [==============================] - 0s 4ms/step - loss: 0.6894 - accuracy: 0.5150\n",
      "Test Loss: 0.689412534236908\n",
      "Test Accuracy: 0.5149999856948853\n"
     ]
    }
   ],
   "source": [
    "# Evaluate the model on the testing data\n",
    "loss, accuracy = model.evaluate(X_test, y_test, batch_size=batch_size)\n",
    "print(\"Test Loss:\", loss)\n",
    "print(\"Test Accuracy:\", accuracy)"
   ]
  }
 ],
 "metadata": {
  "colab": {
   "provenance": []
  },
  "kernelspec": {
   "display_name": "Python 3 (ipykernel)",
   "language": "python",
   "name": "python3"
  },
  "language_info": {
   "codemirror_mode": {
    "name": "ipython",
    "version": 3
   },
   "file_extension": ".py",
   "mimetype": "text/x-python",
   "name": "python",
   "nbconvert_exporter": "python",
   "pygments_lexer": "ipython3",
   "version": "3.10.9"
  },
  "varInspector": {
   "cols": {
    "lenName": 16,
    "lenType": 16,
    "lenVar": 40
   },
   "kernels_config": {
    "python": {
     "delete_cmd_postfix": "",
     "delete_cmd_prefix": "del ",
     "library": "var_list.py",
     "varRefreshCmd": "print(var_dic_list())"
    },
    "r": {
     "delete_cmd_postfix": ") ",
     "delete_cmd_prefix": "rm(",
     "library": "var_list.r",
     "varRefreshCmd": "cat(var_dic_list()) "
    }
   },
   "types_to_exclude": [
    "module",
    "function",
    "builtin_function_or_method",
    "instance",
    "_Feature"
   ],
   "window_display": false
  }
 },
 "nbformat": 4,
 "nbformat_minor": 1
}
