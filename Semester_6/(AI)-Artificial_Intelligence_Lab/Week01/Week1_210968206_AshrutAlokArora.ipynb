{
 "cells": [
  {
   "cell_type": "markdown",
   "id": "470471c0",
   "metadata": {},
   "source": [
    "## Importing Necessary Libraries"
   ]
  },
  {
   "cell_type": "code",
   "execution_count": 1,
   "id": "678bc5bb",
   "metadata": {},
   "outputs": [],
   "source": [
    "import gymnasium as gym\n",
    "env = gym.make('MountainCar-v0', render_mode =\"human\")"
   ]
  },
  {
   "cell_type": "markdown",
   "id": "d8f5a240",
   "metadata": {},
   "source": [
    "## Defining Obs and Action Space"
   ]
  },
  {
   "cell_type": "code",
   "execution_count": 2,
   "id": "9fd4f9fd",
   "metadata": {},
   "outputs": [
    {
     "name": "stdout",
     "output_type": "stream",
     "text": [
      "The observation space: Box([-1.2  -0.07], [0.6  0.07], (2,), float32)\n",
      "The action space: Discrete(3)\n"
     ]
    }
   ],
   "source": [
    "# Observation and action space \n",
    "\n",
    "obs_space = env.observation_space\n",
    "action_space = env.action_space\n",
    "\n",
    "print(\"The observation space: {}\".format(obs_space))\n",
    "print(\"The action space: {}\".format(action_space))"
   ]
  },
  {
   "cell_type": "markdown",
   "id": "472cdec5",
   "metadata": {},
   "source": [
    "## Plotting the Mountain Car"
   ]
  },
  {
   "cell_type": "code",
   "execution_count": 4,
   "id": "27247422",
   "metadata": {},
   "outputs": [
    {
     "name": "stdout",
     "output_type": "stream",
     "text": [
      "The initial observation is (array([-0.5225,  0.    ], dtype=float32), {})\n",
      "The new observation is (array([-0.5215082 ,  0.00099176], dtype=float32), -1.0, False, False, {})\n"
     ]
    }
   ],
   "source": [
    "import matplotlib.pyplot as plt \n",
    "\n",
    "# reset the environment and see the initial observation\n",
    "obs = env.reset()\n",
    "print(\"The initial observation is {}\".format(obs))\n",
    "\n",
    "# Sample a random action from the entire action space\n",
    "random_action = env.action_space.sample()\n",
    "\n",
    "# # Take the action and get the new observation space\n",
    "new_obs = env.step(random_action)\n",
    "print(\"The new observation is {}\".format(new_obs))\n",
    "\n",
    "reward = env.step(random_action)\n",
    "done = env.step(random_action)\n",
    "info = env.step(random_action)"
   ]
  },
  {
   "cell_type": "markdown",
   "id": "8a07543f",
   "metadata": {},
   "source": [
    "### Closing the mountain car window"
   ]
  },
  {
   "cell_type": "code",
   "execution_count": 5,
   "id": "115b388c",
   "metadata": {},
   "outputs": [],
   "source": [
    "env.close()"
   ]
  },
  {
   "cell_type": "markdown",
   "id": "1c6df70e",
   "metadata": {},
   "source": [
    "### Random Movement of the agent"
   ]
  },
  {
   "cell_type": "code",
   "execution_count": null,
   "id": "d6a99959",
   "metadata": {},
   "outputs": [],
   "source": [
    "import time\n",
    "\n",
    "# Number of steps you run the agent for\n",
    "num_steps = 3000\n",
    "\n",
    "obs = env.reset()\n",
    "\n",
    "for step in range(num_steps):\n",
    "    # take random action, but you can also do something more intelligent\n",
    "    # action = my_intelligent_agent_fn(obs)\n",
    "    action = env.action_space.sample()\n",
    "\n",
    "    # apply the action\n",
    "    observation, reward, terminated, truncated, info = env.step(action)\n",
    "\n",
    "    # Render the env\n",
    "    env.render()\n",
    "\n",
    "    # Wait a bit before the next frame unless you want to see a crazy fast video\n",
    "    time.sleep(0.001)\n",
    "\n",
    "    # If the episode is terminated, then start another one\n",
    "    if terminated:\n",
    "        obs = env.reset()\n",
    "\n",
    "# Close the env\n",
    "env.close()"
   ]
  },
  {
   "cell_type": "code",
   "execution_count": 6,
   "id": "d82c6cd3",
   "metadata": {},
   "outputs": [],
   "source": [
    "env.close()"
   ]
  },
  {
   "cell_type": "code",
   "execution_count": 5,
   "id": "57885f52",
   "metadata": {},
   "outputs": [
    {
     "data": {
      "text/plain": [
       "gym.spaces.box.Box"
      ]
     },
     "execution_count": 5,
     "metadata": {},
     "output_type": "execute_result"
    }
   ],
   "source": [
    "type(env.observation_space)"
   ]
  },
  {
   "cell_type": "code",
   "execution_count": 6,
   "id": "90ace6c1",
   "metadata": {},
   "outputs": [
    {
     "name": "stdout",
     "output_type": "stream",
     "text": [
      "Upper Bound for Env Observation [0.6  0.07]\n",
      "Lower Bound for Env Observation [-1.2  -0.07]\n"
     ]
    }
   ],
   "source": [
    "print(\"Upper Bound for Env Observation\", env.observation_space.high)\n",
    "print(\"Lower Bound for Env Observation\", env.observation_space.low)"
   ]
  },
  {
   "cell_type": "markdown",
   "id": "7695935e",
   "metadata": {},
   "source": [
    "# CartPole-v0"
   ]
  },
  {
   "cell_type": "code",
   "execution_count": 18,
   "id": "de05d570",
   "metadata": {},
   "outputs": [],
   "source": [
    "env.close()"
   ]
  },
  {
   "cell_type": "markdown",
   "id": "c0ed2909",
   "metadata": {},
   "source": [
    "### Steps"
   ]
  },
  {
   "cell_type": "code",
   "execution_count": 29,
   "id": "d77702cd",
   "metadata": {},
   "outputs": [
    {
     "name": "stdout",
     "output_type": "stream",
     "text": [
      "Total reward for episode after 15 steps: 15.0\n",
      "Total reward for episode after 36 steps: 21.0\n",
      "Total reward for episode after 49 steps: 13.0\n",
      "Total reward for episode after 67 steps: 18.0\n",
      "Total reward for episode after 94 steps: 27.0\n",
      "Total reward for episode after 111 steps: 17.0\n",
      "Total reward for episode after 121 steps: 10.0\n",
      "Total reward for episode after 146 steps: 25.0\n",
      "Total reward for episode after 157 steps: 11.0\n",
      "Total reward for episode after 170 steps: 13.0\n",
      "Total reward for episode after 203 steps: 33.0\n",
      "Total reward for episode after 229 steps: 26.0\n",
      "Total reward for episode after 263 steps: 34.0\n",
      "Total reward for episode after 383 steps: 120.0\n",
      "Total reward for episode after 408 steps: 25.0\n",
      "Total reward for episode after 423 steps: 15.0\n",
      "Total reward for episode after 441 steps: 18.0\n",
      "Total reward for episode after 472 steps: 31.0\n",
      "Total reward for episode after 492 steps: 20.0\n",
      "Total reward for episode after 515 steps: 23.0\n",
      "Total reward for episode after 527 steps: 12.0\n",
      "Total reward for episode after 538 steps: 11.0\n",
      "Total reward for episode after 587 steps: 49.0\n",
      "Total reward for episode after 613 steps: 26.0\n",
      "Total reward for episode after 624 steps: 11.0\n",
      "Total reward for episode after 634 steps: 10.0\n",
      "Total reward for episode after 645 steps: 11.0\n",
      "Total reward for episode after 659 steps: 14.0\n",
      "Total reward for episode after 680 steps: 21.0\n",
      "Total reward for episode after 692 steps: 12.0\n"
     ]
    }
   ],
   "source": [
    "import time\n",
    "import gym\n",
    "\n",
    "# Create the CartPole environment\n",
    "env = gym.make('CartPole-v1', render_mode='human')\n",
    "\n",
    "# Number of steps you run the agent for\n",
    "num_steps = 700\n",
    "\n",
    "obs = env.reset()\n",
    "\n",
    "total_reward = 0\n",
    "\n",
    "for step in range(num_steps):\n",
    "    # take random action, but you can also do something more intelligent\n",
    "    action = env.action_space.sample()\n",
    "\n",
    "    # apply the action\n",
    "    result = env.step(action)\n",
    "    obs, reward, done, info = result[:4]  # Ensure only the first four elements are unpacked\n",
    "\n",
    "    # accumulate the reward\n",
    "    total_reward += reward\n",
    "\n",
    "    # Render the environment\n",
    "    env.render()\n",
    "\n",
    "    # Wait a bit before the next frame unless you want to see a crazy fast video\n",
    "    time.sleep(0.001)\n",
    "\n",
    "    # If the episode is done, then start another one\n",
    "    if done:\n",
    "        print(f\"Total reward for episode after {step + 1} steps: {total_reward}\")\n",
    "        obs = env.reset()\n",
    "        total_reward = 0  # reset total reward for the new episode\n",
    "\n",
    "# Close the environment\n",
    "env.close()"
   ]
  },
  {
   "cell_type": "markdown",
   "id": "81692cdc",
   "metadata": {},
   "source": [
    "### Episodes"
   ]
  },
  {
   "cell_type": "code",
   "execution_count": 28,
   "id": "2e932413",
   "metadata": {},
   "outputs": [
    {
     "name": "stdout",
     "output_type": "stream",
     "text": [
      "Total reward for episode 1: 19.0\n",
      "Total reward for episode 2: 28.0\n",
      "Total reward for episode 3: 42.0\n",
      "Total reward for episode 4: 27.0\n",
      "Total reward for episode 5: 17.0\n",
      "Total reward for episode 6: 8.0\n",
      "Total reward for episode 7: 11.0\n",
      "Total reward for episode 8: 13.0\n",
      "Total reward for episode 9: 37.0\n",
      "Total reward for episode 10: 22.0\n",
      "Total reward for episode 11: 13.0\n",
      "Total reward for episode 12: 12.0\n",
      "Total reward for episode 13: 80.0\n",
      "Total reward for episode 14: 11.0\n",
      "Total reward for episode 15: 10.0\n",
      "Total reward for episode 16: 14.0\n",
      "Total reward for episode 17: 14.0\n",
      "Total reward for episode 18: 39.0\n",
      "Total reward for episode 19: 11.0\n",
      "Total reward for episode 20: 17.0\n"
     ]
    }
   ],
   "source": [
    "import time\n",
    "import gym\n",
    "\n",
    "# Create the CartPole environment\n",
    "env = gym.make('CartPole-v1', render_mode='human')\n",
    "\n",
    "# Number of episodes to run\n",
    "num_episodes = 20\n",
    "\n",
    "for episode in range(num_episodes):\n",
    "    obs = env.reset()\n",
    "    total_reward = 0\n",
    "\n",
    "    while True:\n",
    "        # take random action, but you can also do something more intelligent\n",
    "        action = env.action_space.sample()\n",
    "\n",
    "        # apply the action\n",
    "        result = env.step(action)\n",
    "        obs, reward, done, info = result[:4]  # Ensure only the first four elements are unpacked\n",
    "\n",
    "        # accumulate the reward\n",
    "        total_reward += reward\n",
    "\n",
    "        # Render the environment\n",
    "        env.render()\n",
    "\n",
    "        # Wait a bit before the next frame unless you want to see a crazy fast video\n",
    "        time.sleep(0.001)\n",
    "\n",
    "        # If the episode is done, then break out of the loop\n",
    "        if done:\n",
    "            print(f\"Total reward for episode {episode + 1}: {total_reward}\")\n",
    "            break\n",
    "\n",
    "# Close the environment\n",
    "env.close()\n"
   ]
  },
  {
   "cell_type": "code",
   "execution_count": 20,
   "id": "2ce52585",
   "metadata": {},
   "outputs": [],
   "source": [
    "env.close()"
   ]
  },
  {
   "cell_type": "markdown",
   "id": "6262c57a",
   "metadata": {},
   "source": [
    "### 2. Use the CartPole-v0 environment and write a program to :\n",
    "a. Implement the CartPole environment for a certain number of steps\n",
    "\n",
    "b. Implement the CartPole environment for a certain number of episodes.\n",
    "\n",
    "c. Compare and comment on the rewards earned for both approaches.\n",
    "\n",
    "d. Plot the cumulative reward of the games and note down the results."
   ]
  },
  {
   "cell_type": "code",
   "execution_count": 19,
   "id": "40e4941a",
   "metadata": {},
   "outputs": [
    {
     "name": "stdout",
     "output_type": "stream",
     "text": [
      "Total reward for episode 1: 53.0\n",
      "Total reward for episode 2: 14.0\n",
      "Total reward for episode 3: 30.0\n",
      "Total reward for episode 4: 12.0\n",
      "Total reward for episode 5: 18.0\n",
      "Total reward for episode 6: 28.0\n",
      "Total reward for episode 7: 10.0\n",
      "Total reward for episode 8: 16.0\n",
      "Total reward for episode 9: 19.0\n",
      "Total reward for episode 10: 27.0\n",
      "Total reward for episode 11: 19.0\n",
      "Total reward for episode 12: 14.0\n",
      "Total reward for episode 13: 15.0\n",
      "Total reward for episode 14: 72.0\n",
      "Total reward for episode 15: 24.0\n",
      "Total reward for episode 16: 31.0\n",
      "Total reward for episode 17: 66.0\n",
      "Total reward for episode 18: 28.0\n",
      "Total reward for episode 19: 11.0\n",
      "Total reward for episode 20: 22.0\n",
      "Total reward for episode after 17 steps: 17.0\n",
      "Total reward for episode after 38 steps: 21.0\n",
      "Total reward for episode after 51 steps: 13.0\n",
      "Total reward for episode after 65 steps: 14.0\n",
      "Total reward for episode after 84 steps: 19.0\n",
      "Total reward for episode after 114 steps: 30.0\n",
      "Total reward for episode after 141 steps: 27.0\n",
      "Total reward for episode after 152 steps: 11.0\n",
      "Total reward for episode after 185 steps: 33.0\n",
      "Total reward for episode after 210 steps: 25.0\n",
      "Total reward for episode after 250 steps: 40.0\n",
      "Total reward for episode after 277 steps: 27.0\n",
      "Total reward for episode after 288 steps: 11.0\n",
      "Total reward for episode after 302 steps: 14.0\n",
      "Total reward for episode after 325 steps: 23.0\n",
      "Total reward for episode after 337 steps: 12.0\n",
      "Total reward for episode after 353 steps: 16.0\n",
      "Total reward for episode after 372 steps: 19.0\n",
      "Total reward for episode after 386 steps: 14.0\n",
      "Total reward for episode after 402 steps: 16.0\n",
      "Total reward for episode after 419 steps: 17.0\n",
      "Total reward for episode after 437 steps: 18.0\n",
      "Total reward for episode after 454 steps: 17.0\n",
      "Total reward for episode after 479 steps: 25.0\n",
      "Total reward for episode after 503 steps: 24.0\n",
      "Total reward for episode after 536 steps: 33.0\n",
      "Total reward for episode after 562 steps: 26.0\n",
      "Total reward for episode after 575 steps: 13.0\n",
      "Total reward for episode after 592 steps: 17.0\n",
      "Total reward for episode after 607 steps: 15.0\n",
      "Total reward for episode after 633 steps: 26.0\n",
      "Total reward for episode after 660 steps: 27.0\n",
      "Total reward for episode after 686 steps: 26.0\n",
      "Total reward for 700 steps: 14.0\n",
      "Average reward for 20 episodes: 26.45\n",
      "Comment: Running for steps might not give meaningful results as CartPole is an episodic task.\n"
     ]
    },
    {
     "data": {
      "image/png": "[encoded data removed]",
      "text/plain": [
       "<Figure size 640x480 with 1 Axes>"
      ]
     },
     "metadata": {},
     "output_type": "display_data"
    }
   ],
   "source": [
    "import time\n",
    "import gym\n",
    "import matplotlib.pyplot as plt\n",
    "\n",
    "def run_cartpole_episodes_v1(num_episodes):\n",
    "    env = gym.make('CartPole-v1', render_mode='human')\n",
    "    episode_rewards = []\n",
    "\n",
    "    for episode in range(num_episodes):\n",
    "        obs = env.reset()\n",
    "        total_reward = 0\n",
    "\n",
    "        while True:\n",
    "            action = env.action_space.sample()\n",
    "            result = env.step(action)\n",
    "            obs, reward, done, info = result[:4]\n",
    "            total_reward += reward\n",
    "            env.render()\n",
    "            time.sleep(0.001)\n",
    "\n",
    "            if done:\n",
    "                episode_rewards.append(total_reward)\n",
    "                print(f\"Total reward for episode {episode + 1}: {total_reward}\")\n",
    "                break\n",
    "\n",
    "    env.close()\n",
    "    return episode_rewards\n",
    "\n",
    "# Function to run CartPole for a certain number of steps\n",
    "def run_cartpole_steps_v1(num_steps):\n",
    "    env = gym.make('CartPole-v1', render_mode='human')\n",
    "    obs = env.reset()\n",
    "    total_reward = 0\n",
    "\n",
    "    for step in range(num_steps):\n",
    "        action = env.action_space.sample()\n",
    "        result = env.step(action)\n",
    "        obs, reward, done, info = result[:4]\n",
    "        total_reward += reward\n",
    "        env.render()\n",
    "        time.sleep(0.001)\n",
    "\n",
    "        if done:\n",
    "            print(f\"Total reward for episode after {step + 1} steps: {total_reward}\")\n",
    "            obs = env.reset()\n",
    "            total_reward = 0  # reset total reward for the new episode\n",
    "\n",
    "    env.close()\n",
    "    return total_reward\n",
    "\n",
    "# Number of episodes to run CartPole for\n",
    "num_episodes = 20\n",
    "episode_rewards = run_cartpole_episodes_v1(num_episodes)\n",
    "\n",
    "# Use the provided code for running steps\n",
    "num_steps = 700\n",
    "total_reward_steps = run_cartpole_steps_v1(num_steps)\n",
    "print(f'Total reward for {num_steps} steps: {total_reward_steps}')\n",
    "\n",
    "# Average reward for episodes\n",
    "average_reward_episodes = sum(episode_rewards) / num_episodes\n",
    "print(f'Average reward for {num_episodes} episodes: {average_reward_episodes}')\n",
    "\n",
    "# Comment on rewards\n",
    "print(\"Comment: Running for steps might not give meaningful results as CartPole is an episodic task.\")\n",
    "\n",
    "# Plot the cumulative reward of the games\n",
    "plt.plot(episode_rewards)\n",
    "plt.title('Cumulative Rewards Over Episodes')\n",
    "plt.xlabel('Episode')\n",
    "plt.ylabel('Cumulative Reward')\n",
    "plt.show()\n",
    "\n",
    "env.close()"
   ]
  }
 ],
 "metadata": {
  "kernelspec": {
   "display_name": "Python 3 (ipykernel)",
   "language": "python",
   "name": "python3"
  },
  "language_info": {
   "codemirror_mode": {
    "name": "ipython",
    "version": 3
   },
   "file_extension": ".py",
   "mimetype": "text/x-python",
   "name": "python",
   "nbconvert_exporter": "python",
   "pygments_lexer": "ipython3",
   "version": "3.10.9"
  },
  "varInspector": {
   "cols": {
    "lenName": 16,
    "lenType": 16,
    "lenVar": 40
   },
   "kernels_config": {
    "python": {
     "delete_cmd_postfix": "",
     "delete_cmd_prefix": "del ",
     "library": "var_list.py",
     "varRefreshCmd": "print(var_dic_list())"
    },
    "r": {
     "delete_cmd_postfix": ") ",
     "delete_cmd_prefix": "rm(",
     "library": "var_list.r",
     "varRefreshCmd": "cat(var_dic_list()) "
    }
   },
   "types_to_exclude": [
    "module",
    "function",
    "builtin_function_or_method",
    "instance",
    "_Feature"
   ],
   "window_display": false
  }
 },
 "nbformat": 4,
 "nbformat_minor": 5
}
